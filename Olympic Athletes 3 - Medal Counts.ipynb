{
 "cells": [
  {
   "cell_type": "markdown",
   "metadata": {},
   "source": [
    "---\n",
    "\n",
    "<center> <h1> Medal Counts of Olympic Athletes Dataset </h1> </center>\n",
    "\n",
    "---"
   ]
  },
  {
   "cell_type": "code",
   "execution_count": 1,
   "metadata": {},
   "outputs": [],
   "source": [
    "import warnings\n",
    "warnings.filterwarnings('ignore')"
   ]
  },
  {
   "cell_type": "code",
   "execution_count": 2,
   "metadata": {},
   "outputs": [
    {
     "data": {
      "text/html": [
       "        <script type=\"text/javascript\">\n",
       "        window.PlotlyConfig = {MathJaxConfig: 'local'};\n",
       "        if (window.MathJax && window.MathJax.Hub && window.MathJax.Hub.Config) {window.MathJax.Hub.Config({SVG: {font: \"STIX-Web\"}});}\n",
       "        if (typeof require !== 'undefined') {\n",
       "        require.undef(\"plotly\");\n",
       "        requirejs.config({\n",
       "            paths: {\n",
       "                'plotly': ['https://cdn.plot.ly/plotly-2.12.1.min']\n",
       "            }\n",
       "        });\n",
       "        require(['plotly'], function(Plotly) {\n",
       "            window._Plotly = Plotly;\n",
       "        });\n",
       "        }\n",
       "        </script>\n",
       "        "
      ]
     },
     "metadata": {},
     "output_type": "display_data"
    }
   ],
   "source": [
    "# Basic Libraries\n",
    "import numpy as np\n",
    "\n",
    "import pandas as pd\n",
    "import seaborn as sb\n",
    "import seaborn as sn # data visualization\n",
    "import seaborn as sns\n",
    "\n",
    "%matplotlib inline\n",
    "import matplotlib.pyplot as plt # we only need pyplot\n",
    "import matplotlib.pyplot as ml #data visualization\n",
    "sb.set() # set the default Seaborn style for grap\n",
    "\n",
    "# Import plotly graph go & offline py\n",
    "import os\n",
    "import plotly.offline as py\n",
    "py.init_notebook_mode(connected=True)\n",
    "import plotly.graph_objs as go\n",
    "import plotly.tools as tls\n",
    "import plotly.figure_factory as ff\n",
    "\n",
    "import math"
   ]
  },
  {
   "cell_type": "markdown",
   "metadata": {},
   "source": [
    "**This part of the notebook will focus on:**\n",
    "1. Total Medals Won By Country (1960 - 2018)\n",
    "2. Total Medals Won By Singapore @ Olympics & Other Information\n",
    "3. Predict Total Medals A Country Can Win\n",
    "4. Linear Regression to Predict Medals Count\n",
    "5. Possible Other Factors"
   ]
  },
  {
   "cell_type": "code",
   "execution_count": 3,
   "metadata": {},
   "outputs": [
    {
     "data": {
      "text/html": [
       "<div>\n",
       "<style scoped>\n",
       "    .dataframe tbody tr th:only-of-type {\n",
       "        vertical-align: middle;\n",
       "    }\n",
       "\n",
       "    .dataframe tbody tr th {\n",
       "        vertical-align: top;\n",
       "    }\n",
       "\n",
       "    .dataframe thead th {\n",
       "        text-align: right;\n",
       "    }\n",
       "</style>\n",
       "<table border=\"1\" class=\"dataframe\">\n",
       "  <thead>\n",
       "    <tr style=\"text-align: right;\">\n",
       "      <th></th>\n",
       "      <th>ID</th>\n",
       "      <th>Name</th>\n",
       "      <th>Sex</th>\n",
       "      <th>Age</th>\n",
       "      <th>Height</th>\n",
       "      <th>Weight</th>\n",
       "      <th>NOC</th>\n",
       "      <th>Games</th>\n",
       "      <th>Year</th>\n",
       "      <th>Season</th>\n",
       "      <th>City</th>\n",
       "      <th>Sport</th>\n",
       "      <th>Event</th>\n",
       "      <th>Medal</th>\n",
       "      <th>Team</th>\n",
       "      <th>Country Code</th>\n",
       "      <th>GDP</th>\n",
       "      <th>Population</th>\n",
       "    </tr>\n",
       "  </thead>\n",
       "  <tbody>\n",
       "    <tr>\n",
       "      <th>0</th>\n",
       "      <td>1</td>\n",
       "      <td>A Dijiang</td>\n",
       "      <td>M</td>\n",
       "      <td>24.0</td>\n",
       "      <td>180.0</td>\n",
       "      <td>80.0</td>\n",
       "      <td>CHN</td>\n",
       "      <td>1992 Summer</td>\n",
       "      <td>1992</td>\n",
       "      <td>Summer</td>\n",
       "      <td>Barcelona</td>\n",
       "      <td>Basketball</td>\n",
       "      <td>Basketball Men's Basketball</td>\n",
       "      <td>No Medal</td>\n",
       "      <td>China</td>\n",
       "      <td>CHN</td>\n",
       "      <td>4.269160e+11</td>\n",
       "      <td>1.164970e+09</td>\n",
       "    </tr>\n",
       "    <tr>\n",
       "      <th>1</th>\n",
       "      <td>2</td>\n",
       "      <td>A Lamusi</td>\n",
       "      <td>M</td>\n",
       "      <td>23.0</td>\n",
       "      <td>170.0</td>\n",
       "      <td>60.0</td>\n",
       "      <td>CHN</td>\n",
       "      <td>2012 Summer</td>\n",
       "      <td>2012</td>\n",
       "      <td>Summer</td>\n",
       "      <td>London</td>\n",
       "      <td>Judo</td>\n",
       "      <td>Judo Men's Extra-Lightweight</td>\n",
       "      <td>No Medal</td>\n",
       "      <td>China</td>\n",
       "      <td>CHN</td>\n",
       "      <td>8.560550e+12</td>\n",
       "      <td>1.350695e+09</td>\n",
       "    </tr>\n",
       "    <tr>\n",
       "      <th>2</th>\n",
       "      <td>5</td>\n",
       "      <td>Christine Jacoba Aaftink</td>\n",
       "      <td>F</td>\n",
       "      <td>21.0</td>\n",
       "      <td>185.0</td>\n",
       "      <td>82.0</td>\n",
       "      <td>NED</td>\n",
       "      <td>1988 Winter</td>\n",
       "      <td>1988</td>\n",
       "      <td>Winter</td>\n",
       "      <td>Calgary</td>\n",
       "      <td>Speed Skating</td>\n",
       "      <td>Speed Skating Women's 500 metres</td>\n",
       "      <td>No Medal</td>\n",
       "      <td>Netherlands</td>\n",
       "      <td>NLD</td>\n",
       "      <td>2.585680e+11</td>\n",
       "      <td>1.476009e+07</td>\n",
       "    </tr>\n",
       "    <tr>\n",
       "      <th>3</th>\n",
       "      <td>5</td>\n",
       "      <td>Christine Jacoba Aaftink</td>\n",
       "      <td>F</td>\n",
       "      <td>21.0</td>\n",
       "      <td>185.0</td>\n",
       "      <td>82.0</td>\n",
       "      <td>NED</td>\n",
       "      <td>1988 Winter</td>\n",
       "      <td>1988</td>\n",
       "      <td>Winter</td>\n",
       "      <td>Calgary</td>\n",
       "      <td>Speed Skating</td>\n",
       "      <td>Speed Skating Women's 1,000 metres</td>\n",
       "      <td>No Medal</td>\n",
       "      <td>Netherlands</td>\n",
       "      <td>NLD</td>\n",
       "      <td>2.585680e+11</td>\n",
       "      <td>1.476009e+07</td>\n",
       "    </tr>\n",
       "    <tr>\n",
       "      <th>4</th>\n",
       "      <td>5</td>\n",
       "      <td>Christine Jacoba Aaftink</td>\n",
       "      <td>F</td>\n",
       "      <td>25.0</td>\n",
       "      <td>185.0</td>\n",
       "      <td>82.0</td>\n",
       "      <td>NED</td>\n",
       "      <td>1992 Winter</td>\n",
       "      <td>1992</td>\n",
       "      <td>Winter</td>\n",
       "      <td>Albertville</td>\n",
       "      <td>Speed Skating</td>\n",
       "      <td>Speed Skating Women's 500 metres</td>\n",
       "      <td>No Medal</td>\n",
       "      <td>Netherlands</td>\n",
       "      <td>NLD</td>\n",
       "      <td>3.583300e+11</td>\n",
       "      <td>1.518417e+07</td>\n",
       "    </tr>\n",
       "  </tbody>\n",
       "</table>\n",
       "</div>"
      ],
      "text/plain": [
       "   ID                      Name Sex   Age  Height  Weight  NOC        Games  \\\n",
       "0   1                 A Dijiang   M  24.0   180.0    80.0  CHN  1992 Summer   \n",
       "1   2                  A Lamusi   M  23.0   170.0    60.0  CHN  2012 Summer   \n",
       "2   5  Christine Jacoba Aaftink   F  21.0   185.0    82.0  NED  1988 Winter   \n",
       "3   5  Christine Jacoba Aaftink   F  21.0   185.0    82.0  NED  1988 Winter   \n",
       "4   5  Christine Jacoba Aaftink   F  25.0   185.0    82.0  NED  1992 Winter   \n",
       "\n",
       "   Year  Season         City          Sport  \\\n",
       "0  1992  Summer    Barcelona     Basketball   \n",
       "1  2012  Summer       London           Judo   \n",
       "2  1988  Winter      Calgary  Speed Skating   \n",
       "3  1988  Winter      Calgary  Speed Skating   \n",
       "4  1992  Winter  Albertville  Speed Skating   \n",
       "\n",
       "                                Event     Medal         Team Country Code  \\\n",
       "0         Basketball Men's Basketball  No Medal        China          CHN   \n",
       "1        Judo Men's Extra-Lightweight  No Medal        China          CHN   \n",
       "2    Speed Skating Women's 500 metres  No Medal  Netherlands          NLD   \n",
       "3  Speed Skating Women's 1,000 metres  No Medal  Netherlands          NLD   \n",
       "4    Speed Skating Women's 500 metres  No Medal  Netherlands          NLD   \n",
       "\n",
       "            GDP    Population  \n",
       "0  4.269160e+11  1.164970e+09  \n",
       "1  8.560550e+12  1.350695e+09  \n",
       "2  2.585680e+11  1.476009e+07  \n",
       "3  2.585680e+11  1.476009e+07  \n",
       "4  3.583300e+11  1.518417e+07  "
      ]
     },
     "execution_count": 3,
     "metadata": {},
     "output_type": "execute_result"
    }
   ],
   "source": [
    "#Import completed athlete data csv file into notebook\n",
    "athleteComplete = pd.read_csv('Cleaned Data/athleteComplete.csv')\n",
    "athleteComplete.head()"
   ]
  },
  {
   "cell_type": "markdown",
   "metadata": {},
   "source": [
    "***"
   ]
  },
  {
   "cell_type": "markdown",
   "metadata": {},
   "source": [
    "## Section 1: Total medals Won By Country (1960 - 2018)"
   ]
  },
  {
   "cell_type": "markdown",
   "metadata": {},
   "source": [
    "**Setup a function that returns 3 new columns, Gold silver bronze, under these specific conditions:**\n",
    "* Return 1 if that athlete won a corresponding medal, else it will display a 0.\n",
    "* Same rules apply to Silver and Bronze"
   ]
  },
  {
   "cell_type": "code",
   "execution_count": 4,
   "metadata": {},
   "outputs": [],
   "source": [
    "#Creating binary columns for medals\n",
    "def gold_m(athleteComplete)  :\n",
    "    if athleteComplete[\"Medal\"] == \"Gold\" :\n",
    "        return 1 \n",
    "    else :\n",
    "        return 0\n",
    "def silver_m(athleteComplete)  :\n",
    "    if athleteComplete[\"Medal\"] == \"Silver\" :\n",
    "        return 1 \n",
    "    else :\n",
    "        return 0\n",
    "def bronze_m(athleteComplete)  :\n",
    "    if athleteComplete[\"Medal\"] == \"Bronze\" :\n",
    "        return 1 \n",
    "    else :\n",
    "        return 0\n",
    "    \n",
    "athleteComplete[\"Gold\"]   = athleteComplete.apply(lambda athleteComplete:gold_m(athleteComplete),axis = 1) \n",
    "athleteComplete[\"Silver\"] = athleteComplete.apply(lambda athleteComplete:silver_m(athleteComplete),axis = 1) \n",
    "athleteComplete[\"Bronze\"] = athleteComplete.apply(lambda athleteComplete:bronze_m(athleteComplete),axis = 1) \n",
    "athleteComplete[\"Total\"] = athleteComplete[\"Gold\"] + athleteComplete[\"Silver\"] +athleteComplete[\"Bronze\"]"
   ]
  },
  {
   "cell_type": "markdown",
   "metadata": {},
   "source": [
    "However, if we are using the data as above to tabulate the total medals, it will not be very accurate either as singapore only has 5 medals up till date and it is reflected at 9 in the table. As the table only takes into consideration 1 medal for every individual in the team! \n",
    "\n",
    "<p>For example:"
   ]
  },
  {
   "cell_type": "code",
   "execution_count": 5,
   "metadata": {
    "scrolled": true
   },
   "outputs": [
    {
     "data": {
      "text/html": [
       "<div>\n",
       "<style scoped>\n",
       "    .dataframe tbody tr th:only-of-type {\n",
       "        vertical-align: middle;\n",
       "    }\n",
       "\n",
       "    .dataframe tbody tr th {\n",
       "        vertical-align: top;\n",
       "    }\n",
       "\n",
       "    .dataframe thead th {\n",
       "        text-align: right;\n",
       "    }\n",
       "</style>\n",
       "<table border=\"1\" class=\"dataframe\">\n",
       "  <thead>\n",
       "    <tr style=\"text-align: right;\">\n",
       "      <th></th>\n",
       "      <th>ID</th>\n",
       "      <th>Name</th>\n",
       "      <th>Sex</th>\n",
       "      <th>Age</th>\n",
       "      <th>Height</th>\n",
       "      <th>Weight</th>\n",
       "      <th>NOC</th>\n",
       "      <th>Games</th>\n",
       "      <th>Year</th>\n",
       "      <th>Season</th>\n",
       "      <th>...</th>\n",
       "      <th>Event</th>\n",
       "      <th>Medal</th>\n",
       "      <th>Team</th>\n",
       "      <th>Country Code</th>\n",
       "      <th>GDP</th>\n",
       "      <th>Population</th>\n",
       "      <th>Gold</th>\n",
       "      <th>Silver</th>\n",
       "      <th>Bronze</th>\n",
       "      <th>Total</th>\n",
       "    </tr>\n",
       "  </thead>\n",
       "  <tbody>\n",
       "    <tr>\n",
       "      <th>51756</th>\n",
       "      <td>34619</td>\n",
       "      <td>Feng Tian Wei</td>\n",
       "      <td>F</td>\n",
       "      <td>21.0</td>\n",
       "      <td>163.0</td>\n",
       "      <td>55.0</td>\n",
       "      <td>SGP</td>\n",
       "      <td>2008 Summer</td>\n",
       "      <td>2008</td>\n",
       "      <td>Summer</td>\n",
       "      <td>...</td>\n",
       "      <td>Table Tennis Women's Team</td>\n",
       "      <td>Silver</td>\n",
       "      <td>Singapore</td>\n",
       "      <td>SGP</td>\n",
       "      <td>1.922260e+11</td>\n",
       "      <td>4839396.0</td>\n",
       "      <td>0</td>\n",
       "      <td>1</td>\n",
       "      <td>0</td>\n",
       "      <td>1</td>\n",
       "    </tr>\n",
       "    <tr>\n",
       "      <th>51757</th>\n",
       "      <td>34619</td>\n",
       "      <td>Feng Tian Wei</td>\n",
       "      <td>F</td>\n",
       "      <td>25.0</td>\n",
       "      <td>163.0</td>\n",
       "      <td>55.0</td>\n",
       "      <td>SGP</td>\n",
       "      <td>2012 Summer</td>\n",
       "      <td>2012</td>\n",
       "      <td>Summer</td>\n",
       "      <td>...</td>\n",
       "      <td>Table Tennis Women's Singles</td>\n",
       "      <td>Bronze</td>\n",
       "      <td>Singapore</td>\n",
       "      <td>SGP</td>\n",
       "      <td>2.891620e+11</td>\n",
       "      <td>5312437.0</td>\n",
       "      <td>0</td>\n",
       "      <td>0</td>\n",
       "      <td>1</td>\n",
       "      <td>1</td>\n",
       "    </tr>\n",
       "    <tr>\n",
       "      <th>51758</th>\n",
       "      <td>34619</td>\n",
       "      <td>Feng Tian Wei</td>\n",
       "      <td>F</td>\n",
       "      <td>25.0</td>\n",
       "      <td>163.0</td>\n",
       "      <td>55.0</td>\n",
       "      <td>SGP</td>\n",
       "      <td>2012 Summer</td>\n",
       "      <td>2012</td>\n",
       "      <td>Summer</td>\n",
       "      <td>...</td>\n",
       "      <td>Table Tennis Women's Team</td>\n",
       "      <td>Bronze</td>\n",
       "      <td>Singapore</td>\n",
       "      <td>SGP</td>\n",
       "      <td>2.891620e+11</td>\n",
       "      <td>5312437.0</td>\n",
       "      <td>0</td>\n",
       "      <td>0</td>\n",
       "      <td>1</td>\n",
       "      <td>1</td>\n",
       "    </tr>\n",
       "    <tr>\n",
       "      <th>106131</th>\n",
       "      <td>69392</td>\n",
       "      <td>Li Jia Wei</td>\n",
       "      <td>F</td>\n",
       "      <td>26.0</td>\n",
       "      <td>170.0</td>\n",
       "      <td>60.0</td>\n",
       "      <td>SGP</td>\n",
       "      <td>2008 Summer</td>\n",
       "      <td>2008</td>\n",
       "      <td>Summer</td>\n",
       "      <td>...</td>\n",
       "      <td>Table Tennis Women's Team</td>\n",
       "      <td>Silver</td>\n",
       "      <td>Singapore</td>\n",
       "      <td>SGP</td>\n",
       "      <td>1.922260e+11</td>\n",
       "      <td>4839396.0</td>\n",
       "      <td>0</td>\n",
       "      <td>1</td>\n",
       "      <td>0</td>\n",
       "      <td>1</td>\n",
       "    </tr>\n",
       "    <tr>\n",
       "      <th>106132</th>\n",
       "      <td>69392</td>\n",
       "      <td>Li Jia Wei</td>\n",
       "      <td>F</td>\n",
       "      <td>30.0</td>\n",
       "      <td>170.0</td>\n",
       "      <td>60.0</td>\n",
       "      <td>SGP</td>\n",
       "      <td>2012 Summer</td>\n",
       "      <td>2012</td>\n",
       "      <td>Summer</td>\n",
       "      <td>...</td>\n",
       "      <td>Table Tennis Women's Team</td>\n",
       "      <td>Bronze</td>\n",
       "      <td>Singapore</td>\n",
       "      <td>SGP</td>\n",
       "      <td>2.891620e+11</td>\n",
       "      <td>5312437.0</td>\n",
       "      <td>0</td>\n",
       "      <td>0</td>\n",
       "      <td>1</td>\n",
       "      <td>1</td>\n",
       "    </tr>\n",
       "    <tr>\n",
       "      <th>164938</th>\n",
       "      <td>107436</td>\n",
       "      <td>Joseph Isaac Schooling</td>\n",
       "      <td>M</td>\n",
       "      <td>21.0</td>\n",
       "      <td>184.0</td>\n",
       "      <td>74.0</td>\n",
       "      <td>SGP</td>\n",
       "      <td>2016 Summer</td>\n",
       "      <td>2016</td>\n",
       "      <td>Summer</td>\n",
       "      <td>...</td>\n",
       "      <td>Swimming Men's 100 metres Butterfly</td>\n",
       "      <td>Gold</td>\n",
       "      <td>Singapore</td>\n",
       "      <td>SGP</td>\n",
       "      <td>2.969760e+11</td>\n",
       "      <td>5607283.0</td>\n",
       "      <td>1</td>\n",
       "      <td>0</td>\n",
       "      <td>0</td>\n",
       "      <td>1</td>\n",
       "    </tr>\n",
       "    <tr>\n",
       "      <th>181859</th>\n",
       "      <td>118289</td>\n",
       "      <td>Howe Liang \"Tiger\" Tan</td>\n",
       "      <td>M</td>\n",
       "      <td>27.0</td>\n",
       "      <td>160.0</td>\n",
       "      <td>69.5</td>\n",
       "      <td>SGP</td>\n",
       "      <td>1960 Summer</td>\n",
       "      <td>1960</td>\n",
       "      <td>Summer</td>\n",
       "      <td>...</td>\n",
       "      <td>Weightlifting Men's Lightweight</td>\n",
       "      <td>Silver</td>\n",
       "      <td>Singapore</td>\n",
       "      <td>SGP</td>\n",
       "      <td>7.044623e+08</td>\n",
       "      <td>1646400.0</td>\n",
       "      <td>0</td>\n",
       "      <td>1</td>\n",
       "      <td>0</td>\n",
       "      <td>1</td>\n",
       "    </tr>\n",
       "    <tr>\n",
       "      <th>197445</th>\n",
       "      <td>128496</td>\n",
       "      <td>Wang Jue Gu</td>\n",
       "      <td>F</td>\n",
       "      <td>28.0</td>\n",
       "      <td>155.0</td>\n",
       "      <td>63.0</td>\n",
       "      <td>SGP</td>\n",
       "      <td>2008 Summer</td>\n",
       "      <td>2008</td>\n",
       "      <td>Summer</td>\n",
       "      <td>...</td>\n",
       "      <td>Table Tennis Women's Team</td>\n",
       "      <td>Silver</td>\n",
       "      <td>Singapore</td>\n",
       "      <td>SGP</td>\n",
       "      <td>1.922260e+11</td>\n",
       "      <td>4839396.0</td>\n",
       "      <td>0</td>\n",
       "      <td>1</td>\n",
       "      <td>0</td>\n",
       "      <td>1</td>\n",
       "    </tr>\n",
       "    <tr>\n",
       "      <th>197447</th>\n",
       "      <td>128496</td>\n",
       "      <td>Wang Jue Gu</td>\n",
       "      <td>F</td>\n",
       "      <td>32.0</td>\n",
       "      <td>155.0</td>\n",
       "      <td>63.0</td>\n",
       "      <td>SGP</td>\n",
       "      <td>2012 Summer</td>\n",
       "      <td>2012</td>\n",
       "      <td>Summer</td>\n",
       "      <td>...</td>\n",
       "      <td>Table Tennis Women's Team</td>\n",
       "      <td>Bronze</td>\n",
       "      <td>Singapore</td>\n",
       "      <td>SGP</td>\n",
       "      <td>2.891620e+11</td>\n",
       "      <td>5312437.0</td>\n",
       "      <td>0</td>\n",
       "      <td>0</td>\n",
       "      <td>1</td>\n",
       "      <td>1</td>\n",
       "    </tr>\n",
       "  </tbody>\n",
       "</table>\n",
       "<p>9 rows × 22 columns</p>\n",
       "</div>"
      ],
      "text/plain": [
       "            ID                    Name Sex   Age  Height  Weight  NOC  \\\n",
       "51756    34619           Feng Tian Wei   F  21.0   163.0    55.0  SGP   \n",
       "51757    34619           Feng Tian Wei   F  25.0   163.0    55.0  SGP   \n",
       "51758    34619           Feng Tian Wei   F  25.0   163.0    55.0  SGP   \n",
       "106131   69392              Li Jia Wei   F  26.0   170.0    60.0  SGP   \n",
       "106132   69392              Li Jia Wei   F  30.0   170.0    60.0  SGP   \n",
       "164938  107436  Joseph Isaac Schooling   M  21.0   184.0    74.0  SGP   \n",
       "181859  118289  Howe Liang \"Tiger\" Tan   M  27.0   160.0    69.5  SGP   \n",
       "197445  128496             Wang Jue Gu   F  28.0   155.0    63.0  SGP   \n",
       "197447  128496             Wang Jue Gu   F  32.0   155.0    63.0  SGP   \n",
       "\n",
       "              Games  Year  Season  ...                                Event  \\\n",
       "51756   2008 Summer  2008  Summer  ...            Table Tennis Women's Team   \n",
       "51757   2012 Summer  2012  Summer  ...         Table Tennis Women's Singles   \n",
       "51758   2012 Summer  2012  Summer  ...            Table Tennis Women's Team   \n",
       "106131  2008 Summer  2008  Summer  ...            Table Tennis Women's Team   \n",
       "106132  2012 Summer  2012  Summer  ...            Table Tennis Women's Team   \n",
       "164938  2016 Summer  2016  Summer  ...  Swimming Men's 100 metres Butterfly   \n",
       "181859  1960 Summer  1960  Summer  ...      Weightlifting Men's Lightweight   \n",
       "197445  2008 Summer  2008  Summer  ...            Table Tennis Women's Team   \n",
       "197447  2012 Summer  2012  Summer  ...            Table Tennis Women's Team   \n",
       "\n",
       "         Medal       Team Country Code           GDP Population  Gold  Silver  \\\n",
       "51756   Silver  Singapore          SGP  1.922260e+11  4839396.0     0       1   \n",
       "51757   Bronze  Singapore          SGP  2.891620e+11  5312437.0     0       0   \n",
       "51758   Bronze  Singapore          SGP  2.891620e+11  5312437.0     0       0   \n",
       "106131  Silver  Singapore          SGP  1.922260e+11  4839396.0     0       1   \n",
       "106132  Bronze  Singapore          SGP  2.891620e+11  5312437.0     0       0   \n",
       "164938    Gold  Singapore          SGP  2.969760e+11  5607283.0     1       0   \n",
       "181859  Silver  Singapore          SGP  7.044623e+08  1646400.0     0       1   \n",
       "197445  Silver  Singapore          SGP  1.922260e+11  4839396.0     0       1   \n",
       "197447  Bronze  Singapore          SGP  2.891620e+11  5312437.0     0       0   \n",
       "\n",
       "        Bronze  Total  \n",
       "51756        0      1  \n",
       "51757        1      1  \n",
       "51758        1      1  \n",
       "106131       0      1  \n",
       "106132       1      1  \n",
       "164938       0      1  \n",
       "181859       0      1  \n",
       "197445       0      1  \n",
       "197447       1      1  \n",
       "\n",
       "[9 rows x 22 columns]"
      ]
     },
     "execution_count": 5,
     "metadata": {},
     "output_type": "execute_result"
    }
   ],
   "source": [
    "athSGP = athleteComplete[(athleteComplete.Team == 'Singapore')]\n",
    "sgpMedalonly = athSGP.drop(athSGP[athSGP.Medal == 'No Medal'].index)\n",
    "sgpMedalonly"
   ]
  },
  {
   "cell_type": "markdown",
   "metadata": {},
   "source": [
    "If were to wikipedia for the Olympic results for Singapore, there is only 5 medal count, reason being each team medal is only consider as 1 and 1 only if they were to win regardless of no. of athlete in that team itself."
   ]
  },
  {
   "cell_type": "code",
   "execution_count": 6,
   "metadata": {},
   "outputs": [
    {
     "data": {
      "text/html": [
       "<div>\n",
       "<style scoped>\n",
       "    .dataframe tbody tr th:only-of-type {\n",
       "        vertical-align: middle;\n",
       "    }\n",
       "\n",
       "    .dataframe tbody tr th {\n",
       "        vertical-align: top;\n",
       "    }\n",
       "\n",
       "    .dataframe thead th {\n",
       "        text-align: right;\n",
       "    }\n",
       "</style>\n",
       "<table border=\"1\" class=\"dataframe\">\n",
       "  <thead>\n",
       "    <tr style=\"text-align: right;\">\n",
       "      <th></th>\n",
       "      <th>Team</th>\n",
       "      <th>Total_Medal</th>\n",
       "    </tr>\n",
       "  </thead>\n",
       "  <tbody>\n",
       "    <tr>\n",
       "      <th>0</th>\n",
       "      <td>Singapore</td>\n",
       "      <td>5</td>\n",
       "    </tr>\n",
       "  </tbody>\n",
       "</table>\n",
       "</div>"
      ],
      "text/plain": [
       "        Team  Total_Medal\n",
       "0  Singapore            5"
      ]
     },
     "execution_count": 6,
     "metadata": {},
     "output_type": "execute_result"
    }
   ],
   "source": [
    "sgpMedalonlytest = sgpMedalonly.drop_duplicates([\"NOC\",\"Games\", \"Year\",\"Season\",\"City\", \"Sport\", \"Event\", \"Medal\"])\n",
    "\n",
    "totalMedalSGP = sgpMedalonlytest.Team.value_counts().reset_index(name='Medal')\n",
    "totalMedalSGP.columns = ['Team','Total_Medal']\n",
    "totalMedalSGP"
   ]
  },
  {
   "cell_type": "markdown",
   "metadata": {},
   "source": [
    "This is a more accurate representation, we will use this data and present it in a more suitable fashion."
   ]
  },
  {
   "cell_type": "code",
   "execution_count": 7,
   "metadata": {},
   "outputs": [],
   "source": [
    "#Then the same logic can be applied to other countries in the current DF as well\n",
    "athleteDatas_individuals_Medal = athleteComplete.drop_duplicates([\"NOC\",\"Games\", \"Year\",\"Season\",\"City\", \"Sport\", \"Event\", \"Medal\"])"
   ]
  },
  {
   "cell_type": "code",
   "execution_count": 8,
   "metadata": {},
   "outputs": [],
   "source": [
    "#Creating binary columns for medals\n",
    "def gold_m(athleteDatas_individuals_Medal)  :\n",
    "    if athleteDatas_individuals_Medal[\"Medal\"] == \"Gold\" :\n",
    "        return 1 \n",
    "    else :\n",
    "        return 0\n",
    "def silver_m(athleteDatas_individuals_Medal)  :\n",
    "    if athleteDatas_individuals_Medal[\"Medal\"] == \"Silver\" :\n",
    "        return 1 \n",
    "    else :\n",
    "        return 0\n",
    "def bronze_m(athleteDatas_individuals_Medal)  :\n",
    "    if athleteDatas_individuals_Medal[\"Medal\"] == \"Bronze\" :\n",
    "        return 1 \n",
    "    else :\n",
    "        return 0\n",
    "    \n",
    "athleteDatas_individuals_Medal[\"Gold\"]   = athleteDatas_individuals_Medal.apply(lambda athleteDatas_individuals_Medal:gold_m(athleteDatas_individuals_Medal),axis = 1) \n",
    "athleteDatas_individuals_Medal[\"Silver\"] = athleteDatas_individuals_Medal.apply(lambda athleteDatas_individuals_Medal:silver_m(athleteDatas_individuals_Medal),axis = 1) \n",
    "athleteDatas_individuals_Medal[\"Bronze\"] = athleteDatas_individuals_Medal.apply(lambda athleteDatas_individuals_Medal:bronze_m(athleteDatas_individuals_Medal),axis = 1) \n",
    "athleteDatas_individuals_Medal[\"Total\"] = athleteDatas_individuals_Medal[\"Gold\"] + athleteDatas_individuals_Medal[\"Silver\"] +athleteDatas_individuals_Medal[\"Bronze\"]"
   ]
  },
  {
   "cell_type": "code",
   "execution_count": 9,
   "metadata": {},
   "outputs": [
    {
     "data": {
      "text/html": [
       "<div>\n",
       "<style scoped>\n",
       "    .dataframe tbody tr th:only-of-type {\n",
       "        vertical-align: middle;\n",
       "    }\n",
       "\n",
       "    .dataframe tbody tr th {\n",
       "        vertical-align: top;\n",
       "    }\n",
       "\n",
       "    .dataframe thead th {\n",
       "        text-align: right;\n",
       "    }\n",
       "</style>\n",
       "<table border=\"1\" class=\"dataframe\">\n",
       "  <thead>\n",
       "    <tr style=\"text-align: right;\">\n",
       "      <th></th>\n",
       "      <th>ID</th>\n",
       "      <th>Name</th>\n",
       "      <th>Sex</th>\n",
       "      <th>Age</th>\n",
       "      <th>Height</th>\n",
       "      <th>Weight</th>\n",
       "      <th>NOC</th>\n",
       "      <th>Games</th>\n",
       "      <th>Year</th>\n",
       "      <th>Season</th>\n",
       "      <th>...</th>\n",
       "      <th>Event</th>\n",
       "      <th>Medal</th>\n",
       "      <th>Team</th>\n",
       "      <th>Country Code</th>\n",
       "      <th>GDP</th>\n",
       "      <th>Population</th>\n",
       "      <th>Gold</th>\n",
       "      <th>Silver</th>\n",
       "      <th>Bronze</th>\n",
       "      <th>Total</th>\n",
       "    </tr>\n",
       "  </thead>\n",
       "  <tbody>\n",
       "    <tr>\n",
       "      <th>0</th>\n",
       "      <td>1</td>\n",
       "      <td>A Dijiang</td>\n",
       "      <td>M</td>\n",
       "      <td>24.0</td>\n",
       "      <td>180.0</td>\n",
       "      <td>80.0</td>\n",
       "      <td>CHN</td>\n",
       "      <td>1992 Summer</td>\n",
       "      <td>1992</td>\n",
       "      <td>Summer</td>\n",
       "      <td>...</td>\n",
       "      <td>Basketball Men's Basketball</td>\n",
       "      <td>No Medal</td>\n",
       "      <td>China</td>\n",
       "      <td>CHN</td>\n",
       "      <td>4.269160e+11</td>\n",
       "      <td>1.164970e+09</td>\n",
       "      <td>0</td>\n",
       "      <td>0</td>\n",
       "      <td>0</td>\n",
       "      <td>0</td>\n",
       "    </tr>\n",
       "    <tr>\n",
       "      <th>1</th>\n",
       "      <td>2</td>\n",
       "      <td>A Lamusi</td>\n",
       "      <td>M</td>\n",
       "      <td>23.0</td>\n",
       "      <td>170.0</td>\n",
       "      <td>60.0</td>\n",
       "      <td>CHN</td>\n",
       "      <td>2012 Summer</td>\n",
       "      <td>2012</td>\n",
       "      <td>Summer</td>\n",
       "      <td>...</td>\n",
       "      <td>Judo Men's Extra-Lightweight</td>\n",
       "      <td>No Medal</td>\n",
       "      <td>China</td>\n",
       "      <td>CHN</td>\n",
       "      <td>8.560550e+12</td>\n",
       "      <td>1.350695e+09</td>\n",
       "      <td>0</td>\n",
       "      <td>0</td>\n",
       "      <td>0</td>\n",
       "      <td>0</td>\n",
       "    </tr>\n",
       "    <tr>\n",
       "      <th>26</th>\n",
       "      <td>12</td>\n",
       "      <td>Jyri Tapani Aalto</td>\n",
       "      <td>M</td>\n",
       "      <td>31.0</td>\n",
       "      <td>172.0</td>\n",
       "      <td>70.0</td>\n",
       "      <td>FIN</td>\n",
       "      <td>2000 Summer</td>\n",
       "      <td>2000</td>\n",
       "      <td>Summer</td>\n",
       "      <td>...</td>\n",
       "      <td>Badminton Men's Singles</td>\n",
       "      <td>No Medal</td>\n",
       "      <td>Finland</td>\n",
       "      <td>FIN</td>\n",
       "      <td>1.255400e+11</td>\n",
       "      <td>5.176209e+06</td>\n",
       "      <td>0</td>\n",
       "      <td>0</td>\n",
       "      <td>0</td>\n",
       "      <td>0</td>\n",
       "    </tr>\n",
       "  </tbody>\n",
       "</table>\n",
       "<p>3 rows × 22 columns</p>\n",
       "</div>"
      ],
      "text/plain": [
       "    ID               Name Sex   Age  Height  Weight  NOC        Games  Year  \\\n",
       "0    1          A Dijiang   M  24.0   180.0    80.0  CHN  1992 Summer  1992   \n",
       "1    2           A Lamusi   M  23.0   170.0    60.0  CHN  2012 Summer  2012   \n",
       "26  12  Jyri Tapani Aalto   M  31.0   172.0    70.0  FIN  2000 Summer  2000   \n",
       "\n",
       "    Season  ...                         Event     Medal     Team Country Code  \\\n",
       "0   Summer  ...   Basketball Men's Basketball  No Medal    China          CHN   \n",
       "1   Summer  ...  Judo Men's Extra-Lightweight  No Medal    China          CHN   \n",
       "26  Summer  ...       Badminton Men's Singles  No Medal  Finland          FIN   \n",
       "\n",
       "             GDP    Population  Gold  Silver  Bronze  Total  \n",
       "0   4.269160e+11  1.164970e+09     0       0       0      0  \n",
       "1   8.560550e+12  1.350695e+09     0       0       0      0  \n",
       "26  1.255400e+11  5.176209e+06     0       0       0      0  \n",
       "\n",
       "[3 rows x 22 columns]"
      ]
     },
     "execution_count": 9,
     "metadata": {},
     "output_type": "execute_result"
    }
   ],
   "source": [
    "# Since we are only interested in Summer games - dropping winter season \n",
    "ad = athleteDatas_individuals_Medal[athleteDatas_individuals_Medal.Season != 'Winter']\n",
    "ad.head(3)"
   ]
  },
  {
   "cell_type": "code",
   "execution_count": 10,
   "metadata": {},
   "outputs": [
    {
     "data": {
      "application/vnd.plotly.v1+json": {
       "config": {
        "linkText": "Export to plot.ly",
        "plotlyServerURL": "https://plot.ly",
        "showLink": false
       },
       "data": [
        {
         "cells": {
          "align": [
           "left",
           "center"
          ],
          "fill": {
           "color": "#F5F8FF"
          },
          "line": {
           "color": "#506784"
          },
          "values": [
           [
            "USA",
            "Russia",
            "Germany",
            "China",
            "UK",
            "Australia",
            "Italy",
            "France",
            "Japan",
            "Hungary",
            "Romania",
            "South Korea",
            "Poland",
            "Bulgaria",
            "Cuba",
            "Canada",
            "Netherlands",
            "Sweden",
            "Spain",
            "Czech Republic",
            "Ukraine",
            "Brazil",
            "New Zealand",
            "Kenya",
            "Denmark",
            "Serbia",
            "Belarus",
            "Switzerland",
            "Finland",
            "Turkey",
            "Kazakhstan",
            "Jamaica",
            "Norway",
            "Greece",
            "Iran",
            "North Korea",
            "Ethiopia",
            "Mexico",
            "Belgium",
            "Azerbaijan",
            "South Africa",
            "Austria",
            "Argentina",
            "Croatia",
            "Uzbekistan",
            "Georgia",
            "Thailand",
            "Indonesia",
            "Slovakia",
            "Colombia",
            "Mongolia",
            "Lithuania",
            "Nigeria",
            "Taiwan",
            "Morocco",
            "Slovenia",
            "Ireland",
            "India",
            "Portugal",
            "Trinidad",
            "Algeria",
            "Latvia",
            "Armenia",
            "Venezuela",
            "Bahamas",
            "Estonia",
            "Tunisia",
            "Egypt",
            "Malaysia",
            "Pakistan",
            "Israel",
            "Zimbabwe",
            "Puerto Rico",
            "Dominican Republic",
            "Uganda",
            "Moldova",
            "Chile",
            "Cameroon",
            "Singapore",
            "Syria",
            "Individual Olympic Athletes",
            "Philippines",
            "Qatar",
            "Vietnam",
            "Costa Rica",
            "Tajikistan",
            "Namibia",
            "Ghana",
            "Bahrain",
            "Ivory Coast",
            "Peru",
            "Iceland",
            "Kyrgyzstan",
            "Saudi Arabia",
            "Burundi",
            "Ecuador",
            "Grenada",
            "Mozambique",
            "Suriname",
            "United Arab Emirates",
            "Tanzania",
            "Lebanon",
            "Niger",
            "Uruguay",
            "Zambia",
            "Afghanistan",
            "Kuwait",
            "Fiji",
            "Jordan",
            "Kosovo",
            "Panama",
            "Botswana",
            "Curacao",
            "Cyprus",
            "Gabon",
            "Guatemala",
            "Montenegro",
            "Paraguay",
            "Senegal",
            "Sri Lanka",
            "Sudan",
            "Tonga",
            "Virgin Islands, US",
            "Barbados",
            "Bermuda",
            "Djibouti",
            "Eritrea",
            "Guyana",
            "Iraq",
            "Macedonia",
            "Mauritius",
            "Togo",
            "Albania",
            "American Samoa",
            "Andorra",
            "Angola",
            "Antigua",
            "Aruba",
            "Bangladesh",
            "Belize",
            "Benin",
            "Bhutan",
            "Boliva",
            "Bosnia and Herzegovina",
            "Brunei",
            "Burkina Faso",
            "Cambodia",
            "Cape Verde",
            "Cayman Islands",
            "Central African Republic",
            "Chad",
            "Comoros",
            "Cook Islands",
            "Democratic Republic of the Congo",
            "Dominica",
            "El Salvador",
            "Equatorial Guinea",
            "Gambia",
            "Guam",
            "Guinea",
            "Guinea-Bissau",
            "Haiti",
            "Honduras",
            "Kiribati",
            "Laos",
            "Lesotho",
            "Liberia",
            "Libya",
            "Liechtenstein",
            "Luxembourg",
            "Madagascar",
            "Malawi",
            "Maldives",
            "Mali",
            "Malta",
            "Marshall Islands",
            "Mauritania",
            "Micronesia",
            "Monaco",
            "Myanmar",
            "Nauru",
            "Nepal",
            "Nicaragua",
            "Oman",
            "Palau",
            "Palestine",
            "Papua New Guinea",
            "Refugee Olympic Athletes",
            "Republic of Congo",
            "Rwanda",
            "Saint Kitts",
            "Saint Lucia",
            "Saint Vincent",
            "Samoa",
            "San Marino",
            "Sao Tome and Principe",
            "Seychelles",
            "Sierra Leone",
            "Solomon Islands",
            "Somalia",
            "South Sudan",
            "Swaziland",
            "Timor-Leste",
            "Turkmenistan",
            "Tuvalu",
            "Vanuatu",
            "Virgin Islands, British",
            "Yemen"
           ],
           [
            581,
            532,
            354,
            228,
            134,
            114,
            127,
            104,
            122,
            107,
            82,
            90,
            61,
            50,
            72,
            39,
            58,
            32,
            42,
            43,
            35,
            27,
            41,
            31,
            26,
            27,
            13,
            18,
            25,
            28,
            19,
            19,
            25,
            21,
            16,
            16,
            22,
            10,
            10,
            7,
            9,
            8,
            8,
            11,
            9,
            8,
            9,
            7,
            9,
            5,
            2,
            6,
            3,
            3,
            6,
            5,
            5,
            3,
            4,
            3,
            5,
            3,
            2,
            2,
            6,
            3,
            3,
            1,
            0,
            3,
            1,
            3,
            1,
            3,
            2,
            0,
            2,
            3,
            1,
            1,
            1,
            0,
            0,
            1,
            1,
            1,
            0,
            0,
            1,
            1,
            0,
            0,
            0,
            0,
            1,
            1,
            1,
            1,
            1,
            1,
            0,
            0,
            0,
            0,
            0,
            0,
            0,
            1,
            1,
            1,
            1,
            0,
            0,
            0,
            0,
            0,
            0,
            0,
            0,
            0,
            0,
            0,
            0,
            0,
            0,
            0,
            0,
            0,
            0,
            0,
            0,
            0,
            0,
            0,
            0,
            0,
            0,
            0,
            0,
            0,
            0,
            0,
            0,
            0,
            0,
            0,
            0,
            0,
            0,
            0,
            0,
            0,
            0,
            0,
            0,
            0,
            0,
            0,
            0,
            0,
            0,
            0,
            0,
            0,
            0,
            0,
            0,
            0,
            0,
            0,
            0,
            0,
            0,
            0,
            0,
            0,
            0,
            0,
            0,
            0,
            0,
            0,
            0,
            0,
            0,
            0,
            0,
            0,
            0,
            0,
            0,
            0,
            0,
            0,
            0,
            0,
            0,
            0,
            0,
            0,
            0,
            0,
            0,
            0,
            0,
            0,
            0,
            0
           ],
           [
            466,
            436,
            348,
            163,
            144,
            142,
            111,
            116,
            103,
            99,
            90,
            84,
            73,
            83,
            65,
            74,
            63,
            62,
            59,
            41,
            32,
            35,
            26,
            38,
            31,
            30,
            28,
            31,
            19,
            21,
            22,
            27,
            22,
            22,
            16,
            15,
            9,
            20,
            18,
            12,
            18,
            16,
            10,
            10,
            7,
            6,
            8,
            12,
            11,
            8,
            10,
            6,
            8,
            7,
            5,
            8,
            8,
            5,
            7,
            4,
            4,
            9,
            5,
            3,
            2,
            3,
            3,
            4,
            7,
            2,
            1,
            4,
            2,
            2,
            3,
            2,
            2,
            1,
            2,
            2,
            1,
            3,
            1,
            3,
            1,
            1,
            4,
            1,
            1,
            1,
            3,
            1,
            1,
            1,
            1,
            1,
            1,
            0,
            0,
            0,
            2,
            1,
            1,
            1,
            1,
            0,
            0,
            0,
            0,
            0,
            0,
            1,
            1,
            1,
            1,
            1,
            1,
            1,
            1,
            1,
            1,
            1,
            1,
            0,
            0,
            0,
            0,
            0,
            0,
            0,
            0,
            0,
            0,
            0,
            0,
            0,
            0,
            0,
            0,
            0,
            0,
            0,
            0,
            0,
            0,
            0,
            0,
            0,
            0,
            0,
            0,
            0,
            0,
            0,
            0,
            0,
            0,
            0,
            0,
            0,
            0,
            0,
            0,
            0,
            0,
            0,
            0,
            0,
            0,
            0,
            0,
            0,
            0,
            0,
            0,
            0,
            0,
            0,
            0,
            0,
            0,
            0,
            0,
            0,
            0,
            0,
            0,
            0,
            0,
            0,
            0,
            0,
            0,
            0,
            0,
            0,
            0,
            0,
            0,
            0,
            0,
            0,
            0,
            0,
            0,
            0,
            0,
            0
           ],
           [
            411,
            433,
            382,
            154,
            159,
            156,
            136,
            150,
            141,
            109,
            112,
            83,
            114,
            78,
            70,
            92,
            70,
            50,
            40,
            50,
            59,
            58,
            40,
            31,
            39,
            34,
            43,
            27,
            31,
            22,
            29,
            22,
            17,
            18,
            23,
            23,
            22,
            23,
            24,
            25,
            11,
            13,
            18,
            12,
            17,
            18,
            13,
            11,
            8,
            14,
            14,
            13,
            13,
            14,
            12,
            10,
            8,
            11,
            7,
            11,
            8,
            4,
            9,
            9,
            5,
            7,
            7,
            7,
            4,
            4,
            7,
            1,
            5,
            2,
            2,
            5,
            2,
            1,
            2,
            2,
            3,
            2,
            4,
            0,
            2,
            2,
            0,
            3,
            1,
            1,
            0,
            2,
            2,
            2,
            0,
            0,
            0,
            1,
            1,
            1,
            0,
            1,
            1,
            1,
            1,
            2,
            2,
            0,
            0,
            0,
            0,
            0,
            0,
            0,
            0,
            0,
            0,
            0,
            0,
            0,
            0,
            0,
            0,
            1,
            1,
            1,
            1,
            1,
            1,
            1,
            1,
            1,
            0,
            0,
            0,
            0,
            0,
            0,
            0,
            0,
            0,
            0,
            0,
            0,
            0,
            0,
            0,
            0,
            0,
            0,
            0,
            0,
            0,
            0,
            0,
            0,
            0,
            0,
            0,
            0,
            0,
            0,
            0,
            0,
            0,
            0,
            0,
            0,
            0,
            0,
            0,
            0,
            0,
            0,
            0,
            0,
            0,
            0,
            0,
            0,
            0,
            0,
            0,
            0,
            0,
            0,
            0,
            0,
            0,
            0,
            0,
            0,
            0,
            0,
            0,
            0,
            0,
            0,
            0,
            0,
            0,
            0,
            0,
            0,
            0,
            0,
            0,
            0
           ],
           [
            1458,
            1401,
            1084,
            545,
            437,
            412,
            374,
            370,
            366,
            315,
            284,
            257,
            248,
            211,
            207,
            205,
            191,
            144,
            141,
            134,
            126,
            120,
            107,
            100,
            96,
            91,
            84,
            76,
            75,
            71,
            70,
            68,
            64,
            61,
            55,
            54,
            53,
            53,
            52,
            44,
            38,
            37,
            36,
            33,
            33,
            32,
            30,
            30,
            28,
            27,
            26,
            25,
            24,
            24,
            23,
            23,
            21,
            19,
            18,
            18,
            17,
            16,
            16,
            14,
            13,
            13,
            13,
            12,
            11,
            9,
            9,
            8,
            8,
            7,
            7,
            7,
            6,
            5,
            5,
            5,
            5,
            5,
            5,
            4,
            4,
            4,
            4,
            4,
            3,
            3,
            3,
            3,
            3,
            3,
            2,
            2,
            2,
            2,
            2,
            2,
            2,
            2,
            2,
            2,
            2,
            2,
            2,
            1,
            1,
            1,
            1,
            1,
            1,
            1,
            1,
            1,
            1,
            1,
            1,
            1,
            1,
            1,
            1,
            1,
            1,
            1,
            1,
            1,
            1,
            1,
            1,
            1,
            0,
            0,
            0,
            0,
            0,
            0,
            0,
            0,
            0,
            0,
            0,
            0,
            0,
            0,
            0,
            0,
            0,
            0,
            0,
            0,
            0,
            0,
            0,
            0,
            0,
            0,
            0,
            0,
            0,
            0,
            0,
            0,
            0,
            0,
            0,
            0,
            0,
            0,
            0,
            0,
            0,
            0,
            0,
            0,
            0,
            0,
            0,
            0,
            0,
            0,
            0,
            0,
            0,
            0,
            0,
            0,
            0,
            0,
            0,
            0,
            0,
            0,
            0,
            0,
            0,
            0,
            0,
            0,
            0,
            0,
            0,
            0,
            0,
            0,
            0,
            0
           ]
          ]
         },
         "header": {
          "align": [
           "left",
           "center"
          ],
          "fill": {
           "color": [
            "Skyblue",
            "Gold",
            "Silver",
            "darkgoldenrod",
            "Green"
           ]
          },
          "font": {
           "color": "black",
           "size": 14
          },
          "line": {
           "color": "black"
          },
          "values": [
           "Country",
           "Gold",
           "Silver",
           "Bronze",
           "Total"
          ]
         },
         "type": "table"
        }
       ],
       "layout": {
        "template": {
         "data": {
          "bar": [
           {
            "error_x": {
             "color": "#2a3f5f"
            },
            "error_y": {
             "color": "#2a3f5f"
            },
            "marker": {
             "line": {
              "color": "#E5ECF6",
              "width": 0.5
             },
             "pattern": {
              "fillmode": "overlay",
              "size": 10,
              "solidity": 0.2
             }
            },
            "type": "bar"
           }
          ],
          "barpolar": [
           {
            "marker": {
             "line": {
              "color": "#E5ECF6",
              "width": 0.5
             },
             "pattern": {
              "fillmode": "overlay",
              "size": 10,
              "solidity": 0.2
             }
            },
            "type": "barpolar"
           }
          ],
          "carpet": [
           {
            "aaxis": {
             "endlinecolor": "#2a3f5f",
             "gridcolor": "white",
             "linecolor": "white",
             "minorgridcolor": "white",
             "startlinecolor": "#2a3f5f"
            },
            "baxis": {
             "endlinecolor": "#2a3f5f",
             "gridcolor": "white",
             "linecolor": "white",
             "minorgridcolor": "white",
             "startlinecolor": "#2a3f5f"
            },
            "type": "carpet"
           }
          ],
          "choropleth": [
           {
            "colorbar": {
             "outlinewidth": 0,
             "ticks": ""
            },
            "type": "choropleth"
           }
          ],
          "contour": [
           {
            "colorbar": {
             "outlinewidth": 0,
             "ticks": ""
            },
            "colorscale": [
             [
              0,
              "#0d0887"
             ],
             [
              0.1111111111111111,
              "#46039f"
             ],
             [
              0.2222222222222222,
              "#7201a8"
             ],
             [
              0.3333333333333333,
              "#9c179e"
             ],
             [
              0.4444444444444444,
              "#bd3786"
             ],
             [
              0.5555555555555556,
              "#d8576b"
             ],
             [
              0.6666666666666666,
              "#ed7953"
             ],
             [
              0.7777777777777778,
              "#fb9f3a"
             ],
             [
              0.8888888888888888,
              "#fdca26"
             ],
             [
              1,
              "#f0f921"
             ]
            ],
            "type": "contour"
           }
          ],
          "contourcarpet": [
           {
            "colorbar": {
             "outlinewidth": 0,
             "ticks": ""
            },
            "type": "contourcarpet"
           }
          ],
          "heatmap": [
           {
            "colorbar": {
             "outlinewidth": 0,
             "ticks": ""
            },
            "colorscale": [
             [
              0,
              "#0d0887"
             ],
             [
              0.1111111111111111,
              "#46039f"
             ],
             [
              0.2222222222222222,
              "#7201a8"
             ],
             [
              0.3333333333333333,
              "#9c179e"
             ],
             [
              0.4444444444444444,
              "#bd3786"
             ],
             [
              0.5555555555555556,
              "#d8576b"
             ],
             [
              0.6666666666666666,
              "#ed7953"
             ],
             [
              0.7777777777777778,
              "#fb9f3a"
             ],
             [
              0.8888888888888888,
              "#fdca26"
             ],
             [
              1,
              "#f0f921"
             ]
            ],
            "type": "heatmap"
           }
          ],
          "heatmapgl": [
           {
            "colorbar": {
             "outlinewidth": 0,
             "ticks": ""
            },
            "colorscale": [
             [
              0,
              "#0d0887"
             ],
             [
              0.1111111111111111,
              "#46039f"
             ],
             [
              0.2222222222222222,
              "#7201a8"
             ],
             [
              0.3333333333333333,
              "#9c179e"
             ],
             [
              0.4444444444444444,
              "#bd3786"
             ],
             [
              0.5555555555555556,
              "#d8576b"
             ],
             [
              0.6666666666666666,
              "#ed7953"
             ],
             [
              0.7777777777777778,
              "#fb9f3a"
             ],
             [
              0.8888888888888888,
              "#fdca26"
             ],
             [
              1,
              "#f0f921"
             ]
            ],
            "type": "heatmapgl"
           }
          ],
          "histogram": [
           {
            "marker": {
             "pattern": {
              "fillmode": "overlay",
              "size": 10,
              "solidity": 0.2
             }
            },
            "type": "histogram"
           }
          ],
          "histogram2d": [
           {
            "colorbar": {
             "outlinewidth": 0,
             "ticks": ""
            },
            "colorscale": [
             [
              0,
              "#0d0887"
             ],
             [
              0.1111111111111111,
              "#46039f"
             ],
             [
              0.2222222222222222,
              "#7201a8"
             ],
             [
              0.3333333333333333,
              "#9c179e"
             ],
             [
              0.4444444444444444,
              "#bd3786"
             ],
             [
              0.5555555555555556,
              "#d8576b"
             ],
             [
              0.6666666666666666,
              "#ed7953"
             ],
             [
              0.7777777777777778,
              "#fb9f3a"
             ],
             [
              0.8888888888888888,
              "#fdca26"
             ],
             [
              1,
              "#f0f921"
             ]
            ],
            "type": "histogram2d"
           }
          ],
          "histogram2dcontour": [
           {
            "colorbar": {
             "outlinewidth": 0,
             "ticks": ""
            },
            "colorscale": [
             [
              0,
              "#0d0887"
             ],
             [
              0.1111111111111111,
              "#46039f"
             ],
             [
              0.2222222222222222,
              "#7201a8"
             ],
             [
              0.3333333333333333,
              "#9c179e"
             ],
             [
              0.4444444444444444,
              "#bd3786"
             ],
             [
              0.5555555555555556,
              "#d8576b"
             ],
             [
              0.6666666666666666,
              "#ed7953"
             ],
             [
              0.7777777777777778,
              "#fb9f3a"
             ],
             [
              0.8888888888888888,
              "#fdca26"
             ],
             [
              1,
              "#f0f921"
             ]
            ],
            "type": "histogram2dcontour"
           }
          ],
          "mesh3d": [
           {
            "colorbar": {
             "outlinewidth": 0,
             "ticks": ""
            },
            "type": "mesh3d"
           }
          ],
          "parcoords": [
           {
            "line": {
             "colorbar": {
              "outlinewidth": 0,
              "ticks": ""
             }
            },
            "type": "parcoords"
           }
          ],
          "pie": [
           {
            "automargin": true,
            "type": "pie"
           }
          ],
          "scatter": [
           {
            "fillpattern": {
             "fillmode": "overlay",
             "size": 10,
             "solidity": 0.2
            },
            "type": "scatter"
           }
          ],
          "scatter3d": [
           {
            "line": {
             "colorbar": {
              "outlinewidth": 0,
              "ticks": ""
             }
            },
            "marker": {
             "colorbar": {
              "outlinewidth": 0,
              "ticks": ""
             }
            },
            "type": "scatter3d"
           }
          ],
          "scattercarpet": [
           {
            "marker": {
             "colorbar": {
              "outlinewidth": 0,
              "ticks": ""
             }
            },
            "type": "scattercarpet"
           }
          ],
          "scattergeo": [
           {
            "marker": {
             "colorbar": {
              "outlinewidth": 0,
              "ticks": ""
             }
            },
            "type": "scattergeo"
           }
          ],
          "scattergl": [
           {
            "marker": {
             "colorbar": {
              "outlinewidth": 0,
              "ticks": ""
             }
            },
            "type": "scattergl"
           }
          ],
          "scattermapbox": [
           {
            "marker": {
             "colorbar": {
              "outlinewidth": 0,
              "ticks": ""
             }
            },
            "type": "scattermapbox"
           }
          ],
          "scatterpolar": [
           {
            "marker": {
             "colorbar": {
              "outlinewidth": 0,
              "ticks": ""
             }
            },
            "type": "scatterpolar"
           }
          ],
          "scatterpolargl": [
           {
            "marker": {
             "colorbar": {
              "outlinewidth": 0,
              "ticks": ""
             }
            },
            "type": "scatterpolargl"
           }
          ],
          "scatterternary": [
           {
            "marker": {
             "colorbar": {
              "outlinewidth": 0,
              "ticks": ""
             }
            },
            "type": "scatterternary"
           }
          ],
          "surface": [
           {
            "colorbar": {
             "outlinewidth": 0,
             "ticks": ""
            },
            "colorscale": [
             [
              0,
              "#0d0887"
             ],
             [
              0.1111111111111111,
              "#46039f"
             ],
             [
              0.2222222222222222,
              "#7201a8"
             ],
             [
              0.3333333333333333,
              "#9c179e"
             ],
             [
              0.4444444444444444,
              "#bd3786"
             ],
             [
              0.5555555555555556,
              "#d8576b"
             ],
             [
              0.6666666666666666,
              "#ed7953"
             ],
             [
              0.7777777777777778,
              "#fb9f3a"
             ],
             [
              0.8888888888888888,
              "#fdca26"
             ],
             [
              1,
              "#f0f921"
             ]
            ],
            "type": "surface"
           }
          ],
          "table": [
           {
            "cells": {
             "fill": {
              "color": "#EBF0F8"
             },
             "line": {
              "color": "white"
             }
            },
            "header": {
             "fill": {
              "color": "#C8D4E3"
             },
             "line": {
              "color": "white"
             }
            },
            "type": "table"
           }
          ]
         },
         "layout": {
          "annotationdefaults": {
           "arrowcolor": "#2a3f5f",
           "arrowhead": 0,
           "arrowwidth": 1
          },
          "autotypenumbers": "strict",
          "coloraxis": {
           "colorbar": {
            "outlinewidth": 0,
            "ticks": ""
           }
          },
          "colorscale": {
           "diverging": [
            [
             0,
             "#8e0152"
            ],
            [
             0.1,
             "#c51b7d"
            ],
            [
             0.2,
             "#de77ae"
            ],
            [
             0.3,
             "#f1b6da"
            ],
            [
             0.4,
             "#fde0ef"
            ],
            [
             0.5,
             "#f7f7f7"
            ],
            [
             0.6,
             "#e6f5d0"
            ],
            [
             0.7,
             "#b8e186"
            ],
            [
             0.8,
             "#7fbc41"
            ],
            [
             0.9,
             "#4d9221"
            ],
            [
             1,
             "#276419"
            ]
           ],
           "sequential": [
            [
             0,
             "#0d0887"
            ],
            [
             0.1111111111111111,
             "#46039f"
            ],
            [
             0.2222222222222222,
             "#7201a8"
            ],
            [
             0.3333333333333333,
             "#9c179e"
            ],
            [
             0.4444444444444444,
             "#bd3786"
            ],
            [
             0.5555555555555556,
             "#d8576b"
            ],
            [
             0.6666666666666666,
             "#ed7953"
            ],
            [
             0.7777777777777778,
             "#fb9f3a"
            ],
            [
             0.8888888888888888,
             "#fdca26"
            ],
            [
             1,
             "#f0f921"
            ]
           ],
           "sequentialminus": [
            [
             0,
             "#0d0887"
            ],
            [
             0.1111111111111111,
             "#46039f"
            ],
            [
             0.2222222222222222,
             "#7201a8"
            ],
            [
             0.3333333333333333,
             "#9c179e"
            ],
            [
             0.4444444444444444,
             "#bd3786"
            ],
            [
             0.5555555555555556,
             "#d8576b"
            ],
            [
             0.6666666666666666,
             "#ed7953"
            ],
            [
             0.7777777777777778,
             "#fb9f3a"
            ],
            [
             0.8888888888888888,
             "#fdca26"
            ],
            [
             1,
             "#f0f921"
            ]
           ]
          },
          "colorway": [
           "#636efa",
           "#EF553B",
           "#00cc96",
           "#ab63fa",
           "#FFA15A",
           "#19d3f3",
           "#FF6692",
           "#B6E880",
           "#FF97FF",
           "#FECB52"
          ],
          "font": {
           "color": "#2a3f5f"
          },
          "geo": {
           "bgcolor": "white",
           "lakecolor": "white",
           "landcolor": "#E5ECF6",
           "showlakes": true,
           "showland": true,
           "subunitcolor": "white"
          },
          "hoverlabel": {
           "align": "left"
          },
          "hovermode": "closest",
          "mapbox": {
           "style": "light"
          },
          "paper_bgcolor": "white",
          "plot_bgcolor": "#E5ECF6",
          "polar": {
           "angularaxis": {
            "gridcolor": "white",
            "linecolor": "white",
            "ticks": ""
           },
           "bgcolor": "#E5ECF6",
           "radialaxis": {
            "gridcolor": "white",
            "linecolor": "white",
            "ticks": ""
           }
          },
          "scene": {
           "xaxis": {
            "backgroundcolor": "#E5ECF6",
            "gridcolor": "white",
            "gridwidth": 2,
            "linecolor": "white",
            "showbackground": true,
            "ticks": "",
            "zerolinecolor": "white"
           },
           "yaxis": {
            "backgroundcolor": "#E5ECF6",
            "gridcolor": "white",
            "gridwidth": 2,
            "linecolor": "white",
            "showbackground": true,
            "ticks": "",
            "zerolinecolor": "white"
           },
           "zaxis": {
            "backgroundcolor": "#E5ECF6",
            "gridcolor": "white",
            "gridwidth": 2,
            "linecolor": "white",
            "showbackground": true,
            "ticks": "",
            "zerolinecolor": "white"
           }
          },
          "shapedefaults": {
           "line": {
            "color": "#2a3f5f"
           }
          },
          "ternary": {
           "aaxis": {
            "gridcolor": "white",
            "linecolor": "white",
            "ticks": ""
           },
           "baxis": {
            "gridcolor": "white",
            "linecolor": "white",
            "ticks": ""
           },
           "bgcolor": "#E5ECF6",
           "caxis": {
            "gridcolor": "white",
            "linecolor": "white",
            "ticks": ""
           }
          },
          "title": {
           "x": 0.05
          },
          "xaxis": {
           "automargin": true,
           "gridcolor": "white",
           "linecolor": "white",
           "ticks": "",
           "title": {
            "standoff": 15
           },
           "zerolinecolor": "white",
           "zerolinewidth": 2
          },
          "yaxis": {
           "automargin": true,
           "gridcolor": "white",
           "linecolor": "white",
           "ticks": "",
           "title": {
            "standoff": 15
           },
           "zerolinecolor": "white",
           "zerolinewidth": 2
          }
         }
        },
        "title": {
         "text": "Medals of each countries 1960 ~ 2016 (In descending order for Summer ONLY)"
        }
       }
      },
      "text/html": [
       "<div>                            <div id=\"b4d5e1c7-4164-47ea-915e-0c6f6c528775\" class=\"plotly-graph-div\" style=\"height:525px; width:100%;\"></div>            <script type=\"text/javascript\">                require([\"plotly\"], function(Plotly) {                    window.PLOTLYENV=window.PLOTLYENV || {};                                    if (document.getElementById(\"b4d5e1c7-4164-47ea-915e-0c6f6c528775\")) {                    Plotly.newPlot(                        \"b4d5e1c7-4164-47ea-915e-0c6f6c528775\",                        [{\"cells\":{\"align\":[\"left\",\"center\"],\"fill\":{\"color\":\"#F5F8FF\"},\"line\":{\"color\":\"#506784\"},\"values\":[[\"USA\",\"Russia\",\"Germany\",\"China\",\"UK\",\"Australia\",\"Italy\",\"France\",\"Japan\",\"Hungary\",\"Romania\",\"South Korea\",\"Poland\",\"Bulgaria\",\"Cuba\",\"Canada\",\"Netherlands\",\"Sweden\",\"Spain\",\"Czech Republic\",\"Ukraine\",\"Brazil\",\"New Zealand\",\"Kenya\",\"Denmark\",\"Serbia\",\"Belarus\",\"Switzerland\",\"Finland\",\"Turkey\",\"Kazakhstan\",\"Jamaica\",\"Norway\",\"Greece\",\"Iran\",\"North Korea\",\"Ethiopia\",\"Mexico\",\"Belgium\",\"Azerbaijan\",\"South Africa\",\"Austria\",\"Argentina\",\"Croatia\",\"Uzbekistan\",\"Georgia\",\"Thailand\",\"Indonesia\",\"Slovakia\",\"Colombia\",\"Mongolia\",\"Lithuania\",\"Nigeria\",\"Taiwan\",\"Morocco\",\"Slovenia\",\"Ireland\",\"India\",\"Portugal\",\"Trinidad\",\"Algeria\",\"Latvia\",\"Armenia\",\"Venezuela\",\"Bahamas\",\"Estonia\",\"Tunisia\",\"Egypt\",\"Malaysia\",\"Pakistan\",\"Israel\",\"Zimbabwe\",\"Puerto Rico\",\"Dominican Republic\",\"Uganda\",\"Moldova\",\"Chile\",\"Cameroon\",\"Singapore\",\"Syria\",\"Individual Olympic Athletes\",\"Philippines\",\"Qatar\",\"Vietnam\",\"Costa Rica\",\"Tajikistan\",\"Namibia\",\"Ghana\",\"Bahrain\",\"Ivory Coast\",\"Peru\",\"Iceland\",\"Kyrgyzstan\",\"Saudi Arabia\",\"Burundi\",\"Ecuador\",\"Grenada\",\"Mozambique\",\"Suriname\",\"United Arab Emirates\",\"Tanzania\",\"Lebanon\",\"Niger\",\"Uruguay\",\"Zambia\",\"Afghanistan\",\"Kuwait\",\"Fiji\",\"Jordan\",\"Kosovo\",\"Panama\",\"Botswana\",\"Curacao\",\"Cyprus\",\"Gabon\",\"Guatemala\",\"Montenegro\",\"Paraguay\",\"Senegal\",\"Sri Lanka\",\"Sudan\",\"Tonga\",\"Virgin Islands, US\",\"Barbados\",\"Bermuda\",\"Djibouti\",\"Eritrea\",\"Guyana\",\"Iraq\",\"Macedonia\",\"Mauritius\",\"Togo\",\"Albania\",\"American Samoa\",\"Andorra\",\"Angola\",\"Antigua\",\"Aruba\",\"Bangladesh\",\"Belize\",\"Benin\",\"Bhutan\",\"Boliva\",\"Bosnia and Herzegovina\",\"Brunei\",\"Burkina Faso\",\"Cambodia\",\"Cape Verde\",\"Cayman Islands\",\"Central African Republic\",\"Chad\",\"Comoros\",\"Cook Islands\",\"Democratic Republic of the Congo\",\"Dominica\",\"El Salvador\",\"Equatorial Guinea\",\"Gambia\",\"Guam\",\"Guinea\",\"Guinea-Bissau\",\"Haiti\",\"Honduras\",\"Kiribati\",\"Laos\",\"Lesotho\",\"Liberia\",\"Libya\",\"Liechtenstein\",\"Luxembourg\",\"Madagascar\",\"Malawi\",\"Maldives\",\"Mali\",\"Malta\",\"Marshall Islands\",\"Mauritania\",\"Micronesia\",\"Monaco\",\"Myanmar\",\"Nauru\",\"Nepal\",\"Nicaragua\",\"Oman\",\"Palau\",\"Palestine\",\"Papua New Guinea\",\"Refugee Olympic Athletes\",\"Republic of Congo\",\"Rwanda\",\"Saint Kitts\",\"Saint Lucia\",\"Saint Vincent\",\"Samoa\",\"San Marino\",\"Sao Tome and Principe\",\"Seychelles\",\"Sierra Leone\",\"Solomon Islands\",\"Somalia\",\"South Sudan\",\"Swaziland\",\"Timor-Leste\",\"Turkmenistan\",\"Tuvalu\",\"Vanuatu\",\"Virgin Islands, British\",\"Yemen\"],[581,532,354,228,134,114,127,104,122,107,82,90,61,50,72,39,58,32,42,43,35,27,41,31,26,27,13,18,25,28,19,19,25,21,16,16,22,10,10,7,9,8,8,11,9,8,9,7,9,5,2,6,3,3,6,5,5,3,4,3,5,3,2,2,6,3,3,1,0,3,1,3,1,3,2,0,2,3,1,1,1,0,0,1,1,1,0,0,1,1,0,0,0,0,1,1,1,1,1,1,0,0,0,0,0,0,0,1,1,1,1,0,0,0,0,0,0,0,0,0,0,0,0,0,0,0,0,0,0,0,0,0,0,0,0,0,0,0,0,0,0,0,0,0,0,0,0,0,0,0,0,0,0,0,0,0,0,0,0,0,0,0,0,0,0,0,0,0,0,0,0,0,0,0,0,0,0,0,0,0,0,0,0,0,0,0,0,0,0,0,0,0,0,0,0,0,0,0,0,0,0,0,0,0,0,0,0,0],[466,436,348,163,144,142,111,116,103,99,90,84,73,83,65,74,63,62,59,41,32,35,26,38,31,30,28,31,19,21,22,27,22,22,16,15,9,20,18,12,18,16,10,10,7,6,8,12,11,8,10,6,8,7,5,8,8,5,7,4,4,9,5,3,2,3,3,4,7,2,1,4,2,2,3,2,2,1,2,2,1,3,1,3,1,1,4,1,1,1,3,1,1,1,1,1,1,0,0,0,2,1,1,1,1,0,0,0,0,0,0,1,1,1,1,1,1,1,1,1,1,1,1,0,0,0,0,0,0,0,0,0,0,0,0,0,0,0,0,0,0,0,0,0,0,0,0,0,0,0,0,0,0,0,0,0,0,0,0,0,0,0,0,0,0,0,0,0,0,0,0,0,0,0,0,0,0,0,0,0,0,0,0,0,0,0,0,0,0,0,0,0,0,0,0,0,0,0,0,0,0,0,0,0,0,0,0,0],[411,433,382,154,159,156,136,150,141,109,112,83,114,78,70,92,70,50,40,50,59,58,40,31,39,34,43,27,31,22,29,22,17,18,23,23,22,23,24,25,11,13,18,12,17,18,13,11,8,14,14,13,13,14,12,10,8,11,7,11,8,4,9,9,5,7,7,7,4,4,7,1,5,2,2,5,2,1,2,2,3,2,4,0,2,2,0,3,1,1,0,2,2,2,0,0,0,1,1,1,0,1,1,1,1,2,2,0,0,0,0,0,0,0,0,0,0,0,0,0,0,0,0,1,1,1,1,1,1,1,1,1,0,0,0,0,0,0,0,0,0,0,0,0,0,0,0,0,0,0,0,0,0,0,0,0,0,0,0,0,0,0,0,0,0,0,0,0,0,0,0,0,0,0,0,0,0,0,0,0,0,0,0,0,0,0,0,0,0,0,0,0,0,0,0,0,0,0,0,0,0,0,0,0,0,0,0,0],[1458,1401,1084,545,437,412,374,370,366,315,284,257,248,211,207,205,191,144,141,134,126,120,107,100,96,91,84,76,75,71,70,68,64,61,55,54,53,53,52,44,38,37,36,33,33,32,30,30,28,27,26,25,24,24,23,23,21,19,18,18,17,16,16,14,13,13,13,12,11,9,9,8,8,7,7,7,6,5,5,5,5,5,5,4,4,4,4,4,3,3,3,3,3,3,2,2,2,2,2,2,2,2,2,2,2,2,2,1,1,1,1,1,1,1,1,1,1,1,1,1,1,1,1,1,1,1,1,1,1,1,1,1,0,0,0,0,0,0,0,0,0,0,0,0,0,0,0,0,0,0,0,0,0,0,0,0,0,0,0,0,0,0,0,0,0,0,0,0,0,0,0,0,0,0,0,0,0,0,0,0,0,0,0,0,0,0,0,0,0,0,0,0,0,0,0,0,0,0,0,0,0,0,0,0,0,0,0,0]]},\"header\":{\"align\":[\"left\",\"center\"],\"fill\":{\"color\":[\"Skyblue\",\"Gold\",\"Silver\",\"darkgoldenrod\",\"Green\"]},\"font\":{\"color\":\"black\",\"size\":14},\"line\":{\"color\":\"black\"},\"values\":[\"Country\",\"Gold\",\"Silver\",\"Bronze\",\"Total\"]},\"type\":\"table\"}],                        {\"template\":{\"data\":{\"barpolar\":[{\"marker\":{\"line\":{\"color\":\"#E5ECF6\",\"width\":0.5},\"pattern\":{\"fillmode\":\"overlay\",\"size\":10,\"solidity\":0.2}},\"type\":\"barpolar\"}],\"bar\":[{\"error_x\":{\"color\":\"#2a3f5f\"},\"error_y\":{\"color\":\"#2a3f5f\"},\"marker\":{\"line\":{\"color\":\"#E5ECF6\",\"width\":0.5},\"pattern\":{\"fillmode\":\"overlay\",\"size\":10,\"solidity\":0.2}},\"type\":\"bar\"}],\"carpet\":[{\"aaxis\":{\"endlinecolor\":\"#2a3f5f\",\"gridcolor\":\"white\",\"linecolor\":\"white\",\"minorgridcolor\":\"white\",\"startlinecolor\":\"#2a3f5f\"},\"baxis\":{\"endlinecolor\":\"#2a3f5f\",\"gridcolor\":\"white\",\"linecolor\":\"white\",\"minorgridcolor\":\"white\",\"startlinecolor\":\"#2a3f5f\"},\"type\":\"carpet\"}],\"choropleth\":[{\"colorbar\":{\"outlinewidth\":0,\"ticks\":\"\"},\"type\":\"choropleth\"}],\"contourcarpet\":[{\"colorbar\":{\"outlinewidth\":0,\"ticks\":\"\"},\"type\":\"contourcarpet\"}],\"contour\":[{\"colorbar\":{\"outlinewidth\":0,\"ticks\":\"\"},\"colorscale\":[[0.0,\"#0d0887\"],[0.1111111111111111,\"#46039f\"],[0.2222222222222222,\"#7201a8\"],[0.3333333333333333,\"#9c179e\"],[0.4444444444444444,\"#bd3786\"],[0.5555555555555556,\"#d8576b\"],[0.6666666666666666,\"#ed7953\"],[0.7777777777777778,\"#fb9f3a\"],[0.8888888888888888,\"#fdca26\"],[1.0,\"#f0f921\"]],\"type\":\"contour\"}],\"heatmapgl\":[{\"colorbar\":{\"outlinewidth\":0,\"ticks\":\"\"},\"colorscale\":[[0.0,\"#0d0887\"],[0.1111111111111111,\"#46039f\"],[0.2222222222222222,\"#7201a8\"],[0.3333333333333333,\"#9c179e\"],[0.4444444444444444,\"#bd3786\"],[0.5555555555555556,\"#d8576b\"],[0.6666666666666666,\"#ed7953\"],[0.7777777777777778,\"#fb9f3a\"],[0.8888888888888888,\"#fdca26\"],[1.0,\"#f0f921\"]],\"type\":\"heatmapgl\"}],\"heatmap\":[{\"colorbar\":{\"outlinewidth\":0,\"ticks\":\"\"},\"colorscale\":[[0.0,\"#0d0887\"],[0.1111111111111111,\"#46039f\"],[0.2222222222222222,\"#7201a8\"],[0.3333333333333333,\"#9c179e\"],[0.4444444444444444,\"#bd3786\"],[0.5555555555555556,\"#d8576b\"],[0.6666666666666666,\"#ed7953\"],[0.7777777777777778,\"#fb9f3a\"],[0.8888888888888888,\"#fdca26\"],[1.0,\"#f0f921\"]],\"type\":\"heatmap\"}],\"histogram2dcontour\":[{\"colorbar\":{\"outlinewidth\":0,\"ticks\":\"\"},\"colorscale\":[[0.0,\"#0d0887\"],[0.1111111111111111,\"#46039f\"],[0.2222222222222222,\"#7201a8\"],[0.3333333333333333,\"#9c179e\"],[0.4444444444444444,\"#bd3786\"],[0.5555555555555556,\"#d8576b\"],[0.6666666666666666,\"#ed7953\"],[0.7777777777777778,\"#fb9f3a\"],[0.8888888888888888,\"#fdca26\"],[1.0,\"#f0f921\"]],\"type\":\"histogram2dcontour\"}],\"histogram2d\":[{\"colorbar\":{\"outlinewidth\":0,\"ticks\":\"\"},\"colorscale\":[[0.0,\"#0d0887\"],[0.1111111111111111,\"#46039f\"],[0.2222222222222222,\"#7201a8\"],[0.3333333333333333,\"#9c179e\"],[0.4444444444444444,\"#bd3786\"],[0.5555555555555556,\"#d8576b\"],[0.6666666666666666,\"#ed7953\"],[0.7777777777777778,\"#fb9f3a\"],[0.8888888888888888,\"#fdca26\"],[1.0,\"#f0f921\"]],\"type\":\"histogram2d\"}],\"histogram\":[{\"marker\":{\"pattern\":{\"fillmode\":\"overlay\",\"size\":10,\"solidity\":0.2}},\"type\":\"histogram\"}],\"mesh3d\":[{\"colorbar\":{\"outlinewidth\":0,\"ticks\":\"\"},\"type\":\"mesh3d\"}],\"parcoords\":[{\"line\":{\"colorbar\":{\"outlinewidth\":0,\"ticks\":\"\"}},\"type\":\"parcoords\"}],\"pie\":[{\"automargin\":true,\"type\":\"pie\"}],\"scatter3d\":[{\"line\":{\"colorbar\":{\"outlinewidth\":0,\"ticks\":\"\"}},\"marker\":{\"colorbar\":{\"outlinewidth\":0,\"ticks\":\"\"}},\"type\":\"scatter3d\"}],\"scattercarpet\":[{\"marker\":{\"colorbar\":{\"outlinewidth\":0,\"ticks\":\"\"}},\"type\":\"scattercarpet\"}],\"scattergeo\":[{\"marker\":{\"colorbar\":{\"outlinewidth\":0,\"ticks\":\"\"}},\"type\":\"scattergeo\"}],\"scattergl\":[{\"marker\":{\"colorbar\":{\"outlinewidth\":0,\"ticks\":\"\"}},\"type\":\"scattergl\"}],\"scattermapbox\":[{\"marker\":{\"colorbar\":{\"outlinewidth\":0,\"ticks\":\"\"}},\"type\":\"scattermapbox\"}],\"scatterpolargl\":[{\"marker\":{\"colorbar\":{\"outlinewidth\":0,\"ticks\":\"\"}},\"type\":\"scatterpolargl\"}],\"scatterpolar\":[{\"marker\":{\"colorbar\":{\"outlinewidth\":0,\"ticks\":\"\"}},\"type\":\"scatterpolar\"}],\"scatter\":[{\"fillpattern\":{\"fillmode\":\"overlay\",\"size\":10,\"solidity\":0.2},\"type\":\"scatter\"}],\"scatterternary\":[{\"marker\":{\"colorbar\":{\"outlinewidth\":0,\"ticks\":\"\"}},\"type\":\"scatterternary\"}],\"surface\":[{\"colorbar\":{\"outlinewidth\":0,\"ticks\":\"\"},\"colorscale\":[[0.0,\"#0d0887\"],[0.1111111111111111,\"#46039f\"],[0.2222222222222222,\"#7201a8\"],[0.3333333333333333,\"#9c179e\"],[0.4444444444444444,\"#bd3786\"],[0.5555555555555556,\"#d8576b\"],[0.6666666666666666,\"#ed7953\"],[0.7777777777777778,\"#fb9f3a\"],[0.8888888888888888,\"#fdca26\"],[1.0,\"#f0f921\"]],\"type\":\"surface\"}],\"table\":[{\"cells\":{\"fill\":{\"color\":\"#EBF0F8\"},\"line\":{\"color\":\"white\"}},\"header\":{\"fill\":{\"color\":\"#C8D4E3\"},\"line\":{\"color\":\"white\"}},\"type\":\"table\"}]},\"layout\":{\"annotationdefaults\":{\"arrowcolor\":\"#2a3f5f\",\"arrowhead\":0,\"arrowwidth\":1},\"autotypenumbers\":\"strict\",\"coloraxis\":{\"colorbar\":{\"outlinewidth\":0,\"ticks\":\"\"}},\"colorscale\":{\"diverging\":[[0,\"#8e0152\"],[0.1,\"#c51b7d\"],[0.2,\"#de77ae\"],[0.3,\"#f1b6da\"],[0.4,\"#fde0ef\"],[0.5,\"#f7f7f7\"],[0.6,\"#e6f5d0\"],[0.7,\"#b8e186\"],[0.8,\"#7fbc41\"],[0.9,\"#4d9221\"],[1,\"#276419\"]],\"sequential\":[[0.0,\"#0d0887\"],[0.1111111111111111,\"#46039f\"],[0.2222222222222222,\"#7201a8\"],[0.3333333333333333,\"#9c179e\"],[0.4444444444444444,\"#bd3786\"],[0.5555555555555556,\"#d8576b\"],[0.6666666666666666,\"#ed7953\"],[0.7777777777777778,\"#fb9f3a\"],[0.8888888888888888,\"#fdca26\"],[1.0,\"#f0f921\"]],\"sequentialminus\":[[0.0,\"#0d0887\"],[0.1111111111111111,\"#46039f\"],[0.2222222222222222,\"#7201a8\"],[0.3333333333333333,\"#9c179e\"],[0.4444444444444444,\"#bd3786\"],[0.5555555555555556,\"#d8576b\"],[0.6666666666666666,\"#ed7953\"],[0.7777777777777778,\"#fb9f3a\"],[0.8888888888888888,\"#fdca26\"],[1.0,\"#f0f921\"]]},\"colorway\":[\"#636efa\",\"#EF553B\",\"#00cc96\",\"#ab63fa\",\"#FFA15A\",\"#19d3f3\",\"#FF6692\",\"#B6E880\",\"#FF97FF\",\"#FECB52\"],\"font\":{\"color\":\"#2a3f5f\"},\"geo\":{\"bgcolor\":\"white\",\"lakecolor\":\"white\",\"landcolor\":\"#E5ECF6\",\"showlakes\":true,\"showland\":true,\"subunitcolor\":\"white\"},\"hoverlabel\":{\"align\":\"left\"},\"hovermode\":\"closest\",\"mapbox\":{\"style\":\"light\"},\"paper_bgcolor\":\"white\",\"plot_bgcolor\":\"#E5ECF6\",\"polar\":{\"angularaxis\":{\"gridcolor\":\"white\",\"linecolor\":\"white\",\"ticks\":\"\"},\"bgcolor\":\"#E5ECF6\",\"radialaxis\":{\"gridcolor\":\"white\",\"linecolor\":\"white\",\"ticks\":\"\"}},\"scene\":{\"xaxis\":{\"backgroundcolor\":\"#E5ECF6\",\"gridcolor\":\"white\",\"gridwidth\":2,\"linecolor\":\"white\",\"showbackground\":true,\"ticks\":\"\",\"zerolinecolor\":\"white\"},\"yaxis\":{\"backgroundcolor\":\"#E5ECF6\",\"gridcolor\":\"white\",\"gridwidth\":2,\"linecolor\":\"white\",\"showbackground\":true,\"ticks\":\"\",\"zerolinecolor\":\"white\"},\"zaxis\":{\"backgroundcolor\":\"#E5ECF6\",\"gridcolor\":\"white\",\"gridwidth\":2,\"linecolor\":\"white\",\"showbackground\":true,\"ticks\":\"\",\"zerolinecolor\":\"white\"}},\"shapedefaults\":{\"line\":{\"color\":\"#2a3f5f\"}},\"ternary\":{\"aaxis\":{\"gridcolor\":\"white\",\"linecolor\":\"white\",\"ticks\":\"\"},\"baxis\":{\"gridcolor\":\"white\",\"linecolor\":\"white\",\"ticks\":\"\"},\"bgcolor\":\"#E5ECF6\",\"caxis\":{\"gridcolor\":\"white\",\"linecolor\":\"white\",\"ticks\":\"\"}},\"title\":{\"x\":0.05},\"xaxis\":{\"automargin\":true,\"gridcolor\":\"white\",\"linecolor\":\"white\",\"ticks\":\"\",\"title\":{\"standoff\":15},\"zerolinecolor\":\"white\",\"zerolinewidth\":2},\"yaxis\":{\"automargin\":true,\"gridcolor\":\"white\",\"linecolor\":\"white\",\"ticks\":\"\",\"title\":{\"standoff\":15},\"zerolinecolor\":\"white\",\"zerolinewidth\":2}}},\"title\":{\"text\":\"Medals of each countries 1960 ~ 2016 (In descending order for Summer ONLY)\"}},                        {\"responsive\": true}                    ).then(function(){\n",
       "                            \n",
       "var gd = document.getElementById('b4d5e1c7-4164-47ea-915e-0c6f6c528775');\n",
       "var x = new MutationObserver(function (mutations, observer) {{\n",
       "        var display = window.getComputedStyle(gd).display;\n",
       "        if (!display || display === 'none') {{\n",
       "            console.log([gd, 'removed!']);\n",
       "            Plotly.purge(gd);\n",
       "            observer.disconnect();\n",
       "        }}\n",
       "}});\n",
       "\n",
       "// Listen for the removal of the full notebook cells\n",
       "var notebookContainer = gd.closest('#notebook-container');\n",
       "if (notebookContainer) {{\n",
       "    x.observe(notebookContainer, {childList: true});\n",
       "}}\n",
       "\n",
       "// Listen for the clearing of the current output cell\n",
       "var outputEl = gd.closest('.output');\n",
       "if (outputEl) {{\n",
       "    x.observe(outputEl, {childList: true});\n",
       "}}\n",
       "\n",
       "                        })                };                });            </script>        </div>"
      ]
     },
     "metadata": {},
     "output_type": "display_data"
    }
   ],
   "source": [
    "cou_med = ad.groupby(\"Team\")[\"Gold\",\"Silver\",\"Bronze\"].sum().reset_index()\n",
    "cou_med[\"Total\"] = cou_med[\"Gold\"] + cou_med[\"Silver\"] + cou_med[\"Bronze\"]\n",
    "cou_med = cou_med.sort_values(by = [\"Total\",\"Gold\",\"Silver\",\"Bronze\"],ascending = False)\n",
    "cou_med = cou_med.rename(columns={\"Team\" : \"Country\"})\n",
    "\n",
    "t = go.Table(header=dict(values = cou_med.columns.tolist(),\n",
    "                         line = dict(color = 'black'),\n",
    "                         align = ['left','center'],\n",
    "                         fill  = dict(color = [ \"Skyblue\",\"Gold\",\"Silver\",\"darkgoldenrod\",\"Green\"]),\n",
    "                         font = dict(color = 'black', size = 14)\n",
    "                        ),\n",
    "             cells  = dict(values = [cou_med.Country,cou_med.Gold,cou_med.Silver,\n",
    "                                     cou_med.Bronze,cou_med.Total],\n",
    "                           line = dict(color = '#506784'),\n",
    "                           align = ['left','center'],\n",
    "                           fill  = dict(color = \"#F5F8FF\"),\n",
    "                          )\n",
    "            )\n",
    "data = [t]\n",
    "\n",
    "l = go.Layout(dict(title = \"Medals of each countries 1960 ~ 2016 (In descending order for Summer ONLY)\"))\n",
    "f = go.Figure(data=data,layout=l)\n",
    "py.iplot(f)"
   ]
  },
  {
   "cell_type": "code",
   "execution_count": 11,
   "metadata": {},
   "outputs": [
    {
     "data": {
      "application/vnd.plotly.v1+json": {
       "config": {
        "linkText": "Export to plot.ly",
        "plotlyServerURL": "https://plot.ly",
        "showLink": false
       },
       "data": [
        {
         "marker": {
          "line": {
           "color": "black",
           "width": 1
          },
          "size": [
           17.3,
           12.1,
           11,
           10.8,
           10.7,
           10.3,
           10.1,
           10.1,
           9.4,
           9.4,
           9.4,
           9.1,
           9,
           7.1
          ]
         },
         "mode": "markers",
         "name": "USA",
         "type": "scatter",
         "x": [
          1984,
          2016,
          2008,
          1992,
          1968,
          2012,
          1996,
          2004,
          1988,
          1976,
          1972,
          2000,
          1964,
          1960
         ],
         "y": [
          173,
          121,
          110,
          108,
          107,
          103,
          101,
          101,
          94,
          94,
          94,
          91,
          90,
          71
         ]
        },
        {
         "marker": {
          "line": {
           "color": "black",
           "width": 1
          },
          "size": [
           13,
           8.733333333333333,
           8.333333333333334,
           7.466666666666667,
           6.866666666666666,
           6.6,
           6.2,
           6.066666666666666,
           6,
           5.933333333333334,
           5.466666666666667,
           4.8,
           4.2,
           3.7333333333333334
          ]
         },
         "mode": "markers",
         "name": "Russia",
         "type": "scatter",
         "x": [
          1980,
          1988,
          1976,
          1992,
          1960,
          1972,
          1964,
          1968,
          2004,
          2000,
          2012,
          2008,
          1996,
          2016
         ],
         "y": [
          195,
          131,
          125,
          112,
          103,
          99,
          93,
          91,
          90,
          89,
          82,
          72,
          63,
          56
         ]
        },
        {
         "marker": {
          "line": {
           "color": "black",
           "width": 1
          },
          "size": [
           14.2,
           12.9,
           12.6,
           10.6,
           8.2,
           6.5,
           5.9,
           5.6,
           5.1,
           5,
           4.9,
           4.4,
           4.2,
           4.2,
           4.1
          ]
         },
         "mode": "markers",
         "name": "Germany",
         "type": "scatter",
         "x": [
          1988,
          1976,
          1980,
          1972,
          1992,
          1996,
          1984,
          2000,
          1968,
          1964,
          2004,
          2012,
          2016,
          1960,
          2008
         ],
         "y": [
          142,
          129,
          126,
          106,
          82,
          65,
          59,
          56,
          51,
          50,
          49,
          44,
          42,
          42,
          41
         ]
        },
        {
         "marker": {
          "line": {
           "color": "black",
           "width": 1
          },
          "size": [
           13.4,
           13,
           9.6,
           7.4,
           6,
           5.6,
           4.8,
           4.2,
           4,
           4,
           3.6,
           3.6,
           3,
           2.6,
           2.6
          ]
         },
         "mode": "markers",
         "name": "UK",
         "type": "scatter",
         "x": [
          2016,
          2012,
          2008,
          1984,
          2004,
          2000,
          1988,
          1980,
          1992,
          1960,
          1964,
          1972,
          1996,
          1968,
          1976
         ],
         "y": [
          67,
          65,
          48,
          37,
          30,
          28,
          24,
          21,
          20,
          20,
          18,
          18,
          15,
          13,
          13
         ]
        },
        {
         "marker": {
          "line": {
           "color": "black",
           "width": 1
          },
          "size": [
           8.4,
           8.2,
           7.6,
           7.4,
           7,
           6.6,
           5.8,
           5.6,
           3.2,
           3,
           3,
           2.8,
           2.6,
           1.8,
           1
          ]
         },
         "mode": "markers",
         "name": "France",
         "type": "scatter",
         "x": [
          2016,
          2008,
          2000,
          1996,
          2012,
          2004,
          1992,
          1984,
          1988,
          1968,
          1964,
          1980,
          1972,
          1976,
          1960
         ],
         "y": [
          42,
          41,
          38,
          37,
          35,
          33,
          29,
          28,
          16,
          15,
          15,
          14,
          13,
          9,
          5
         ]
        },
        {
         "marker": {
          "line": {
           "color": "black",
           "width": 1
          },
          "size": [
           1,
           0.5,
           0.5,
           0.5,
           0,
           0,
           0,
           0,
           0,
           0,
           0,
           0,
           0
          ]
         },
         "mode": "markers",
         "name": "Singapore",
         "type": "scatter",
         "x": [
          2012,
          2016,
          1960,
          2008,
          1968,
          1972,
          1976,
          1984,
          1988,
          1992,
          1996,
          2000,
          2004
         ],
         "y": [
          2,
          1,
          1,
          1,
          0,
          0,
          0,
          0,
          0,
          0,
          0,
          0,
          0
         ]
        }
       ],
       "layout": {
        "paper_bgcolor": "rgb(243,243,243)",
        "plot_bgcolor": "rgb(243,243,243)",
        "template": {
         "data": {
          "bar": [
           {
            "error_x": {
             "color": "#2a3f5f"
            },
            "error_y": {
             "color": "#2a3f5f"
            },
            "marker": {
             "line": {
              "color": "#E5ECF6",
              "width": 0.5
             },
             "pattern": {
              "fillmode": "overlay",
              "size": 10,
              "solidity": 0.2
             }
            },
            "type": "bar"
           }
          ],
          "barpolar": [
           {
            "marker": {
             "line": {
              "color": "#E5ECF6",
              "width": 0.5
             },
             "pattern": {
              "fillmode": "overlay",
              "size": 10,
              "solidity": 0.2
             }
            },
            "type": "barpolar"
           }
          ],
          "carpet": [
           {
            "aaxis": {
             "endlinecolor": "#2a3f5f",
             "gridcolor": "white",
             "linecolor": "white",
             "minorgridcolor": "white",
             "startlinecolor": "#2a3f5f"
            },
            "baxis": {
             "endlinecolor": "#2a3f5f",
             "gridcolor": "white",
             "linecolor": "white",
             "minorgridcolor": "white",
             "startlinecolor": "#2a3f5f"
            },
            "type": "carpet"
           }
          ],
          "choropleth": [
           {
            "colorbar": {
             "outlinewidth": 0,
             "ticks": ""
            },
            "type": "choropleth"
           }
          ],
          "contour": [
           {
            "colorbar": {
             "outlinewidth": 0,
             "ticks": ""
            },
            "colorscale": [
             [
              0,
              "#0d0887"
             ],
             [
              0.1111111111111111,
              "#46039f"
             ],
             [
              0.2222222222222222,
              "#7201a8"
             ],
             [
              0.3333333333333333,
              "#9c179e"
             ],
             [
              0.4444444444444444,
              "#bd3786"
             ],
             [
              0.5555555555555556,
              "#d8576b"
             ],
             [
              0.6666666666666666,
              "#ed7953"
             ],
             [
              0.7777777777777778,
              "#fb9f3a"
             ],
             [
              0.8888888888888888,
              "#fdca26"
             ],
             [
              1,
              "#f0f921"
             ]
            ],
            "type": "contour"
           }
          ],
          "contourcarpet": [
           {
            "colorbar": {
             "outlinewidth": 0,
             "ticks": ""
            },
            "type": "contourcarpet"
           }
          ],
          "heatmap": [
           {
            "colorbar": {
             "outlinewidth": 0,
             "ticks": ""
            },
            "colorscale": [
             [
              0,
              "#0d0887"
             ],
             [
              0.1111111111111111,
              "#46039f"
             ],
             [
              0.2222222222222222,
              "#7201a8"
             ],
             [
              0.3333333333333333,
              "#9c179e"
             ],
             [
              0.4444444444444444,
              "#bd3786"
             ],
             [
              0.5555555555555556,
              "#d8576b"
             ],
             [
              0.6666666666666666,
              "#ed7953"
             ],
             [
              0.7777777777777778,
              "#fb9f3a"
             ],
             [
              0.8888888888888888,
              "#fdca26"
             ],
             [
              1,
              "#f0f921"
             ]
            ],
            "type": "heatmap"
           }
          ],
          "heatmapgl": [
           {
            "colorbar": {
             "outlinewidth": 0,
             "ticks": ""
            },
            "colorscale": [
             [
              0,
              "#0d0887"
             ],
             [
              0.1111111111111111,
              "#46039f"
             ],
             [
              0.2222222222222222,
              "#7201a8"
             ],
             [
              0.3333333333333333,
              "#9c179e"
             ],
             [
              0.4444444444444444,
              "#bd3786"
             ],
             [
              0.5555555555555556,
              "#d8576b"
             ],
             [
              0.6666666666666666,
              "#ed7953"
             ],
             [
              0.7777777777777778,
              "#fb9f3a"
             ],
             [
              0.8888888888888888,
              "#fdca26"
             ],
             [
              1,
              "#f0f921"
             ]
            ],
            "type": "heatmapgl"
           }
          ],
          "histogram": [
           {
            "marker": {
             "pattern": {
              "fillmode": "overlay",
              "size": 10,
              "solidity": 0.2
             }
            },
            "type": "histogram"
           }
          ],
          "histogram2d": [
           {
            "colorbar": {
             "outlinewidth": 0,
             "ticks": ""
            },
            "colorscale": [
             [
              0,
              "#0d0887"
             ],
             [
              0.1111111111111111,
              "#46039f"
             ],
             [
              0.2222222222222222,
              "#7201a8"
             ],
             [
              0.3333333333333333,
              "#9c179e"
             ],
             [
              0.4444444444444444,
              "#bd3786"
             ],
             [
              0.5555555555555556,
              "#d8576b"
             ],
             [
              0.6666666666666666,
              "#ed7953"
             ],
             [
              0.7777777777777778,
              "#fb9f3a"
             ],
             [
              0.8888888888888888,
              "#fdca26"
             ],
             [
              1,
              "#f0f921"
             ]
            ],
            "type": "histogram2d"
           }
          ],
          "histogram2dcontour": [
           {
            "colorbar": {
             "outlinewidth": 0,
             "ticks": ""
            },
            "colorscale": [
             [
              0,
              "#0d0887"
             ],
             [
              0.1111111111111111,
              "#46039f"
             ],
             [
              0.2222222222222222,
              "#7201a8"
             ],
             [
              0.3333333333333333,
              "#9c179e"
             ],
             [
              0.4444444444444444,
              "#bd3786"
             ],
             [
              0.5555555555555556,
              "#d8576b"
             ],
             [
              0.6666666666666666,
              "#ed7953"
             ],
             [
              0.7777777777777778,
              "#fb9f3a"
             ],
             [
              0.8888888888888888,
              "#fdca26"
             ],
             [
              1,
              "#f0f921"
             ]
            ],
            "type": "histogram2dcontour"
           }
          ],
          "mesh3d": [
           {
            "colorbar": {
             "outlinewidth": 0,
             "ticks": ""
            },
            "type": "mesh3d"
           }
          ],
          "parcoords": [
           {
            "line": {
             "colorbar": {
              "outlinewidth": 0,
              "ticks": ""
             }
            },
            "type": "parcoords"
           }
          ],
          "pie": [
           {
            "automargin": true,
            "type": "pie"
           }
          ],
          "scatter": [
           {
            "fillpattern": {
             "fillmode": "overlay",
             "size": 10,
             "solidity": 0.2
            },
            "type": "scatter"
           }
          ],
          "scatter3d": [
           {
            "line": {
             "colorbar": {
              "outlinewidth": 0,
              "ticks": ""
             }
            },
            "marker": {
             "colorbar": {
              "outlinewidth": 0,
              "ticks": ""
             }
            },
            "type": "scatter3d"
           }
          ],
          "scattercarpet": [
           {
            "marker": {
             "colorbar": {
              "outlinewidth": 0,
              "ticks": ""
             }
            },
            "type": "scattercarpet"
           }
          ],
          "scattergeo": [
           {
            "marker": {
             "colorbar": {
              "outlinewidth": 0,
              "ticks": ""
             }
            },
            "type": "scattergeo"
           }
          ],
          "scattergl": [
           {
            "marker": {
             "colorbar": {
              "outlinewidth": 0,
              "ticks": ""
             }
            },
            "type": "scattergl"
           }
          ],
          "scattermapbox": [
           {
            "marker": {
             "colorbar": {
              "outlinewidth": 0,
              "ticks": ""
             }
            },
            "type": "scattermapbox"
           }
          ],
          "scatterpolar": [
           {
            "marker": {
             "colorbar": {
              "outlinewidth": 0,
              "ticks": ""
             }
            },
            "type": "scatterpolar"
           }
          ],
          "scatterpolargl": [
           {
            "marker": {
             "colorbar": {
              "outlinewidth": 0,
              "ticks": ""
             }
            },
            "type": "scatterpolargl"
           }
          ],
          "scatterternary": [
           {
            "marker": {
             "colorbar": {
              "outlinewidth": 0,
              "ticks": ""
             }
            },
            "type": "scatterternary"
           }
          ],
          "surface": [
           {
            "colorbar": {
             "outlinewidth": 0,
             "ticks": ""
            },
            "colorscale": [
             [
              0,
              "#0d0887"
             ],
             [
              0.1111111111111111,
              "#46039f"
             ],
             [
              0.2222222222222222,
              "#7201a8"
             ],
             [
              0.3333333333333333,
              "#9c179e"
             ],
             [
              0.4444444444444444,
              "#bd3786"
             ],
             [
              0.5555555555555556,
              "#d8576b"
             ],
             [
              0.6666666666666666,
              "#ed7953"
             ],
             [
              0.7777777777777778,
              "#fb9f3a"
             ],
             [
              0.8888888888888888,
              "#fdca26"
             ],
             [
              1,
              "#f0f921"
             ]
            ],
            "type": "surface"
           }
          ],
          "table": [
           {
            "cells": {
             "fill": {
              "color": "#EBF0F8"
             },
             "line": {
              "color": "white"
             }
            },
            "header": {
             "fill": {
              "color": "#C8D4E3"
             },
             "line": {
              "color": "white"
             }
            },
            "type": "table"
           }
          ]
         },
         "layout": {
          "annotationdefaults": {
           "arrowcolor": "#2a3f5f",
           "arrowhead": 0,
           "arrowwidth": 1
          },
          "autotypenumbers": "strict",
          "coloraxis": {
           "colorbar": {
            "outlinewidth": 0,
            "ticks": ""
           }
          },
          "colorscale": {
           "diverging": [
            [
             0,
             "#8e0152"
            ],
            [
             0.1,
             "#c51b7d"
            ],
            [
             0.2,
             "#de77ae"
            ],
            [
             0.3,
             "#f1b6da"
            ],
            [
             0.4,
             "#fde0ef"
            ],
            [
             0.5,
             "#f7f7f7"
            ],
            [
             0.6,
             "#e6f5d0"
            ],
            [
             0.7,
             "#b8e186"
            ],
            [
             0.8,
             "#7fbc41"
            ],
            [
             0.9,
             "#4d9221"
            ],
            [
             1,
             "#276419"
            ]
           ],
           "sequential": [
            [
             0,
             "#0d0887"
            ],
            [
             0.1111111111111111,
             "#46039f"
            ],
            [
             0.2222222222222222,
             "#7201a8"
            ],
            [
             0.3333333333333333,
             "#9c179e"
            ],
            [
             0.4444444444444444,
             "#bd3786"
            ],
            [
             0.5555555555555556,
             "#d8576b"
            ],
            [
             0.6666666666666666,
             "#ed7953"
            ],
            [
             0.7777777777777778,
             "#fb9f3a"
            ],
            [
             0.8888888888888888,
             "#fdca26"
            ],
            [
             1,
             "#f0f921"
            ]
           ],
           "sequentialminus": [
            [
             0,
             "#0d0887"
            ],
            [
             0.1111111111111111,
             "#46039f"
            ],
            [
             0.2222222222222222,
             "#7201a8"
            ],
            [
             0.3333333333333333,
             "#9c179e"
            ],
            [
             0.4444444444444444,
             "#bd3786"
            ],
            [
             0.5555555555555556,
             "#d8576b"
            ],
            [
             0.6666666666666666,
             "#ed7953"
            ],
            [
             0.7777777777777778,
             "#fb9f3a"
            ],
            [
             0.8888888888888888,
             "#fdca26"
            ],
            [
             1,
             "#f0f921"
            ]
           ]
          },
          "colorway": [
           "#636efa",
           "#EF553B",
           "#00cc96",
           "#ab63fa",
           "#FFA15A",
           "#19d3f3",
           "#FF6692",
           "#B6E880",
           "#FF97FF",
           "#FECB52"
          ],
          "font": {
           "color": "#2a3f5f"
          },
          "geo": {
           "bgcolor": "white",
           "lakecolor": "white",
           "landcolor": "#E5ECF6",
           "showlakes": true,
           "showland": true,
           "subunitcolor": "white"
          },
          "hoverlabel": {
           "align": "left"
          },
          "hovermode": "closest",
          "mapbox": {
           "style": "light"
          },
          "paper_bgcolor": "white",
          "plot_bgcolor": "#E5ECF6",
          "polar": {
           "angularaxis": {
            "gridcolor": "white",
            "linecolor": "white",
            "ticks": ""
           },
           "bgcolor": "#E5ECF6",
           "radialaxis": {
            "gridcolor": "white",
            "linecolor": "white",
            "ticks": ""
           }
          },
          "scene": {
           "xaxis": {
            "backgroundcolor": "#E5ECF6",
            "gridcolor": "white",
            "gridwidth": 2,
            "linecolor": "white",
            "showbackground": true,
            "ticks": "",
            "zerolinecolor": "white"
           },
           "yaxis": {
            "backgroundcolor": "#E5ECF6",
            "gridcolor": "white",
            "gridwidth": 2,
            "linecolor": "white",
            "showbackground": true,
            "ticks": "",
            "zerolinecolor": "white"
           },
           "zaxis": {
            "backgroundcolor": "#E5ECF6",
            "gridcolor": "white",
            "gridwidth": 2,
            "linecolor": "white",
            "showbackground": true,
            "ticks": "",
            "zerolinecolor": "white"
           }
          },
          "shapedefaults": {
           "line": {
            "color": "#2a3f5f"
           }
          },
          "ternary": {
           "aaxis": {
            "gridcolor": "white",
            "linecolor": "white",
            "ticks": ""
           },
           "baxis": {
            "gridcolor": "white",
            "linecolor": "white",
            "ticks": ""
           },
           "bgcolor": "#E5ECF6",
           "caxis": {
            "gridcolor": "white",
            "linecolor": "white",
            "ticks": ""
           }
          },
          "title": {
           "x": 0.05
          },
          "xaxis": {
           "automargin": true,
           "gridcolor": "white",
           "linecolor": "white",
           "ticks": "",
           "title": {
            "standoff": 15
           },
           "zerolinecolor": "white",
           "zerolinewidth": 2
          },
          "yaxis": {
           "automargin": true,
           "gridcolor": "white",
           "linecolor": "white",
           "ticks": "",
           "title": {
            "standoff": 15
           },
           "zerolinecolor": "white",
           "zerolinewidth": 2
          }
         }
        },
        "title": {
         "text": "Top 5 countries' medals & Singapore in Olympics over the years"
        },
        "xaxis": {
         "gridcolor": "rgb(255, 255, 255)",
         "gridwidth": 2,
         "ticklen": 5,
         "title": {
          "text": "Year"
         },
         "zerolinewidth": 1
        },
        "yaxis": {
         "gridcolor": "rgb(255, 255, 255)",
         "gridwidth": 2,
         "ticklen": 5,
         "title": {
          "text": "Medal Count"
         },
         "zerolinewidth": 1
        }
       }
      },
      "text/html": [
       "<div>                            <div id=\"b5ad1ce2-4b8e-48be-8159-366244e87280\" class=\"plotly-graph-div\" style=\"height:525px; width:100%;\"></div>            <script type=\"text/javascript\">                require([\"plotly\"], function(Plotly) {                    window.PLOTLYENV=window.PLOTLYENV || {};                                    if (document.getElementById(\"b5ad1ce2-4b8e-48be-8159-366244e87280\")) {                    Plotly.newPlot(                        \"b5ad1ce2-4b8e-48be-8159-366244e87280\",                        [{\"marker\":{\"line\":{\"color\":\"black\",\"width\":1},\"size\":[17.3,12.1,11.0,10.8,10.7,10.3,10.1,10.1,9.4,9.4,9.4,9.1,9.0,7.1]},\"mode\":\"markers\",\"name\":\"USA\",\"x\":[1984,2016,2008,1992,1968,2012,1996,2004,1988,1976,1972,2000,1964,1960],\"y\":[173,121,110,108,107,103,101,101,94,94,94,91,90,71],\"type\":\"scatter\"},{\"marker\":{\"line\":{\"color\":\"black\",\"width\":1},\"size\":[13.0,8.733333333333333,8.333333333333334,7.466666666666667,6.866666666666666,6.6,6.2,6.066666666666666,6.0,5.933333333333334,5.466666666666667,4.8,4.2,3.7333333333333334]},\"mode\":\"markers\",\"name\":\"Russia\",\"x\":[1980,1988,1976,1992,1960,1972,1964,1968,2004,2000,2012,2008,1996,2016],\"y\":[195,131,125,112,103,99,93,91,90,89,82,72,63,56],\"type\":\"scatter\"},{\"marker\":{\"line\":{\"color\":\"black\",\"width\":1},\"size\":[14.2,12.9,12.6,10.6,8.2,6.5,5.9,5.6,5.1,5.0,4.9,4.4,4.2,4.2,4.1]},\"mode\":\"markers\",\"name\":\"Germany\",\"x\":[1988,1976,1980,1972,1992,1996,1984,2000,1968,1964,2004,2012,2016,1960,2008],\"y\":[142,129,126,106,82,65,59,56,51,50,49,44,42,42,41],\"type\":\"scatter\"},{\"marker\":{\"line\":{\"color\":\"black\",\"width\":1},\"size\":[13.4,13.0,9.6,7.4,6.0,5.6,4.8,4.2,4.0,4.0,3.6,3.6,3.0,2.6,2.6]},\"mode\":\"markers\",\"name\":\"UK\",\"x\":[2016,2012,2008,1984,2004,2000,1988,1980,1992,1960,1964,1972,1996,1968,1976],\"y\":[67,65,48,37,30,28,24,21,20,20,18,18,15,13,13],\"type\":\"scatter\"},{\"marker\":{\"line\":{\"color\":\"black\",\"width\":1},\"size\":[8.4,8.2,7.6,7.4,7.0,6.6,5.8,5.6,3.2,3.0,3.0,2.8,2.6,1.8,1.0]},\"mode\":\"markers\",\"name\":\"France\",\"x\":[2016,2008,2000,1996,2012,2004,1992,1984,1988,1968,1964,1980,1972,1976,1960],\"y\":[42,41,38,37,35,33,29,28,16,15,15,14,13,9,5],\"type\":\"scatter\"},{\"marker\":{\"line\":{\"color\":\"black\",\"width\":1},\"size\":[1.0,0.5,0.5,0.5,0.0,0.0,0.0,0.0,0.0,0.0,0.0,0.0,0.0]},\"mode\":\"markers\",\"name\":\"Singapore\",\"x\":[2012,2016,1960,2008,1968,1972,1976,1984,1988,1992,1996,2000,2004],\"y\":[2,1,1,1,0,0,0,0,0,0,0,0,0],\"type\":\"scatter\"}],                        {\"paper_bgcolor\":\"rgb(243,243,243)\",\"plot_bgcolor\":\"rgb(243,243,243)\",\"template\":{\"data\":{\"barpolar\":[{\"marker\":{\"line\":{\"color\":\"#E5ECF6\",\"width\":0.5},\"pattern\":{\"fillmode\":\"overlay\",\"size\":10,\"solidity\":0.2}},\"type\":\"barpolar\"}],\"bar\":[{\"error_x\":{\"color\":\"#2a3f5f\"},\"error_y\":{\"color\":\"#2a3f5f\"},\"marker\":{\"line\":{\"color\":\"#E5ECF6\",\"width\":0.5},\"pattern\":{\"fillmode\":\"overlay\",\"size\":10,\"solidity\":0.2}},\"type\":\"bar\"}],\"carpet\":[{\"aaxis\":{\"endlinecolor\":\"#2a3f5f\",\"gridcolor\":\"white\",\"linecolor\":\"white\",\"minorgridcolor\":\"white\",\"startlinecolor\":\"#2a3f5f\"},\"baxis\":{\"endlinecolor\":\"#2a3f5f\",\"gridcolor\":\"white\",\"linecolor\":\"white\",\"minorgridcolor\":\"white\",\"startlinecolor\":\"#2a3f5f\"},\"type\":\"carpet\"}],\"choropleth\":[{\"colorbar\":{\"outlinewidth\":0,\"ticks\":\"\"},\"type\":\"choropleth\"}],\"contourcarpet\":[{\"colorbar\":{\"outlinewidth\":0,\"ticks\":\"\"},\"type\":\"contourcarpet\"}],\"contour\":[{\"colorbar\":{\"outlinewidth\":0,\"ticks\":\"\"},\"colorscale\":[[0.0,\"#0d0887\"],[0.1111111111111111,\"#46039f\"],[0.2222222222222222,\"#7201a8\"],[0.3333333333333333,\"#9c179e\"],[0.4444444444444444,\"#bd3786\"],[0.5555555555555556,\"#d8576b\"],[0.6666666666666666,\"#ed7953\"],[0.7777777777777778,\"#fb9f3a\"],[0.8888888888888888,\"#fdca26\"],[1.0,\"#f0f921\"]],\"type\":\"contour\"}],\"heatmapgl\":[{\"colorbar\":{\"outlinewidth\":0,\"ticks\":\"\"},\"colorscale\":[[0.0,\"#0d0887\"],[0.1111111111111111,\"#46039f\"],[0.2222222222222222,\"#7201a8\"],[0.3333333333333333,\"#9c179e\"],[0.4444444444444444,\"#bd3786\"],[0.5555555555555556,\"#d8576b\"],[0.6666666666666666,\"#ed7953\"],[0.7777777777777778,\"#fb9f3a\"],[0.8888888888888888,\"#fdca26\"],[1.0,\"#f0f921\"]],\"type\":\"heatmapgl\"}],\"heatmap\":[{\"colorbar\":{\"outlinewidth\":0,\"ticks\":\"\"},\"colorscale\":[[0.0,\"#0d0887\"],[0.1111111111111111,\"#46039f\"],[0.2222222222222222,\"#7201a8\"],[0.3333333333333333,\"#9c179e\"],[0.4444444444444444,\"#bd3786\"],[0.5555555555555556,\"#d8576b\"],[0.6666666666666666,\"#ed7953\"],[0.7777777777777778,\"#fb9f3a\"],[0.8888888888888888,\"#fdca26\"],[1.0,\"#f0f921\"]],\"type\":\"heatmap\"}],\"histogram2dcontour\":[{\"colorbar\":{\"outlinewidth\":0,\"ticks\":\"\"},\"colorscale\":[[0.0,\"#0d0887\"],[0.1111111111111111,\"#46039f\"],[0.2222222222222222,\"#7201a8\"],[0.3333333333333333,\"#9c179e\"],[0.4444444444444444,\"#bd3786\"],[0.5555555555555556,\"#d8576b\"],[0.6666666666666666,\"#ed7953\"],[0.7777777777777778,\"#fb9f3a\"],[0.8888888888888888,\"#fdca26\"],[1.0,\"#f0f921\"]],\"type\":\"histogram2dcontour\"}],\"histogram2d\":[{\"colorbar\":{\"outlinewidth\":0,\"ticks\":\"\"},\"colorscale\":[[0.0,\"#0d0887\"],[0.1111111111111111,\"#46039f\"],[0.2222222222222222,\"#7201a8\"],[0.3333333333333333,\"#9c179e\"],[0.4444444444444444,\"#bd3786\"],[0.5555555555555556,\"#d8576b\"],[0.6666666666666666,\"#ed7953\"],[0.7777777777777778,\"#fb9f3a\"],[0.8888888888888888,\"#fdca26\"],[1.0,\"#f0f921\"]],\"type\":\"histogram2d\"}],\"histogram\":[{\"marker\":{\"pattern\":{\"fillmode\":\"overlay\",\"size\":10,\"solidity\":0.2}},\"type\":\"histogram\"}],\"mesh3d\":[{\"colorbar\":{\"outlinewidth\":0,\"ticks\":\"\"},\"type\":\"mesh3d\"}],\"parcoords\":[{\"line\":{\"colorbar\":{\"outlinewidth\":0,\"ticks\":\"\"}},\"type\":\"parcoords\"}],\"pie\":[{\"automargin\":true,\"type\":\"pie\"}],\"scatter3d\":[{\"line\":{\"colorbar\":{\"outlinewidth\":0,\"ticks\":\"\"}},\"marker\":{\"colorbar\":{\"outlinewidth\":0,\"ticks\":\"\"}},\"type\":\"scatter3d\"}],\"scattercarpet\":[{\"marker\":{\"colorbar\":{\"outlinewidth\":0,\"ticks\":\"\"}},\"type\":\"scattercarpet\"}],\"scattergeo\":[{\"marker\":{\"colorbar\":{\"outlinewidth\":0,\"ticks\":\"\"}},\"type\":\"scattergeo\"}],\"scattergl\":[{\"marker\":{\"colorbar\":{\"outlinewidth\":0,\"ticks\":\"\"}},\"type\":\"scattergl\"}],\"scattermapbox\":[{\"marker\":{\"colorbar\":{\"outlinewidth\":0,\"ticks\":\"\"}},\"type\":\"scattermapbox\"}],\"scatterpolargl\":[{\"marker\":{\"colorbar\":{\"outlinewidth\":0,\"ticks\":\"\"}},\"type\":\"scatterpolargl\"}],\"scatterpolar\":[{\"marker\":{\"colorbar\":{\"outlinewidth\":0,\"ticks\":\"\"}},\"type\":\"scatterpolar\"}],\"scatter\":[{\"fillpattern\":{\"fillmode\":\"overlay\",\"size\":10,\"solidity\":0.2},\"type\":\"scatter\"}],\"scatterternary\":[{\"marker\":{\"colorbar\":{\"outlinewidth\":0,\"ticks\":\"\"}},\"type\":\"scatterternary\"}],\"surface\":[{\"colorbar\":{\"outlinewidth\":0,\"ticks\":\"\"},\"colorscale\":[[0.0,\"#0d0887\"],[0.1111111111111111,\"#46039f\"],[0.2222222222222222,\"#7201a8\"],[0.3333333333333333,\"#9c179e\"],[0.4444444444444444,\"#bd3786\"],[0.5555555555555556,\"#d8576b\"],[0.6666666666666666,\"#ed7953\"],[0.7777777777777778,\"#fb9f3a\"],[0.8888888888888888,\"#fdca26\"],[1.0,\"#f0f921\"]],\"type\":\"surface\"}],\"table\":[{\"cells\":{\"fill\":{\"color\":\"#EBF0F8\"},\"line\":{\"color\":\"white\"}},\"header\":{\"fill\":{\"color\":\"#C8D4E3\"},\"line\":{\"color\":\"white\"}},\"type\":\"table\"}]},\"layout\":{\"annotationdefaults\":{\"arrowcolor\":\"#2a3f5f\",\"arrowhead\":0,\"arrowwidth\":1},\"autotypenumbers\":\"strict\",\"coloraxis\":{\"colorbar\":{\"outlinewidth\":0,\"ticks\":\"\"}},\"colorscale\":{\"diverging\":[[0,\"#8e0152\"],[0.1,\"#c51b7d\"],[0.2,\"#de77ae\"],[0.3,\"#f1b6da\"],[0.4,\"#fde0ef\"],[0.5,\"#f7f7f7\"],[0.6,\"#e6f5d0\"],[0.7,\"#b8e186\"],[0.8,\"#7fbc41\"],[0.9,\"#4d9221\"],[1,\"#276419\"]],\"sequential\":[[0.0,\"#0d0887\"],[0.1111111111111111,\"#46039f\"],[0.2222222222222222,\"#7201a8\"],[0.3333333333333333,\"#9c179e\"],[0.4444444444444444,\"#bd3786\"],[0.5555555555555556,\"#d8576b\"],[0.6666666666666666,\"#ed7953\"],[0.7777777777777778,\"#fb9f3a\"],[0.8888888888888888,\"#fdca26\"],[1.0,\"#f0f921\"]],\"sequentialminus\":[[0.0,\"#0d0887\"],[0.1111111111111111,\"#46039f\"],[0.2222222222222222,\"#7201a8\"],[0.3333333333333333,\"#9c179e\"],[0.4444444444444444,\"#bd3786\"],[0.5555555555555556,\"#d8576b\"],[0.6666666666666666,\"#ed7953\"],[0.7777777777777778,\"#fb9f3a\"],[0.8888888888888888,\"#fdca26\"],[1.0,\"#f0f921\"]]},\"colorway\":[\"#636efa\",\"#EF553B\",\"#00cc96\",\"#ab63fa\",\"#FFA15A\",\"#19d3f3\",\"#FF6692\",\"#B6E880\",\"#FF97FF\",\"#FECB52\"],\"font\":{\"color\":\"#2a3f5f\"},\"geo\":{\"bgcolor\":\"white\",\"lakecolor\":\"white\",\"landcolor\":\"#E5ECF6\",\"showlakes\":true,\"showland\":true,\"subunitcolor\":\"white\"},\"hoverlabel\":{\"align\":\"left\"},\"hovermode\":\"closest\",\"mapbox\":{\"style\":\"light\"},\"paper_bgcolor\":\"white\",\"plot_bgcolor\":\"#E5ECF6\",\"polar\":{\"angularaxis\":{\"gridcolor\":\"white\",\"linecolor\":\"white\",\"ticks\":\"\"},\"bgcolor\":\"#E5ECF6\",\"radialaxis\":{\"gridcolor\":\"white\",\"linecolor\":\"white\",\"ticks\":\"\"}},\"scene\":{\"xaxis\":{\"backgroundcolor\":\"#E5ECF6\",\"gridcolor\":\"white\",\"gridwidth\":2,\"linecolor\":\"white\",\"showbackground\":true,\"ticks\":\"\",\"zerolinecolor\":\"white\"},\"yaxis\":{\"backgroundcolor\":\"#E5ECF6\",\"gridcolor\":\"white\",\"gridwidth\":2,\"linecolor\":\"white\",\"showbackground\":true,\"ticks\":\"\",\"zerolinecolor\":\"white\"},\"zaxis\":{\"backgroundcolor\":\"#E5ECF6\",\"gridcolor\":\"white\",\"gridwidth\":2,\"linecolor\":\"white\",\"showbackground\":true,\"ticks\":\"\",\"zerolinecolor\":\"white\"}},\"shapedefaults\":{\"line\":{\"color\":\"#2a3f5f\"}},\"ternary\":{\"aaxis\":{\"gridcolor\":\"white\",\"linecolor\":\"white\",\"ticks\":\"\"},\"baxis\":{\"gridcolor\":\"white\",\"linecolor\":\"white\",\"ticks\":\"\"},\"bgcolor\":\"#E5ECF6\",\"caxis\":{\"gridcolor\":\"white\",\"linecolor\":\"white\",\"ticks\":\"\"}},\"title\":{\"x\":0.05},\"xaxis\":{\"automargin\":true,\"gridcolor\":\"white\",\"linecolor\":\"white\",\"ticks\":\"\",\"title\":{\"standoff\":15},\"zerolinecolor\":\"white\",\"zerolinewidth\":2},\"yaxis\":{\"automargin\":true,\"gridcolor\":\"white\",\"linecolor\":\"white\",\"ticks\":\"\",\"title\":{\"standoff\":15},\"zerolinecolor\":\"white\",\"zerolinewidth\":2}}},\"title\":{\"text\":\"Top 5 countries' medals & Singapore in Olympics over the years\"},\"xaxis\":{\"gridcolor\":\"rgb(255, 255, 255)\",\"gridwidth\":2,\"ticklen\":5,\"title\":{\"text\":\"Year\"},\"zerolinewidth\":1},\"yaxis\":{\"gridcolor\":\"rgb(255, 255, 255)\",\"gridwidth\":2,\"ticklen\":5,\"title\":{\"text\":\"Medal Count\"},\"zerolinewidth\":1}},                        {\"responsive\": true}                    ).then(function(){\n",
       "                            \n",
       "var gd = document.getElementById('b5ad1ce2-4b8e-48be-8159-366244e87280');\n",
       "var x = new MutationObserver(function (mutations, observer) {{\n",
       "        var display = window.getComputedStyle(gd).display;\n",
       "        if (!display || display === 'none') {{\n",
       "            console.log([gd, 'removed!']);\n",
       "            Plotly.purge(gd);\n",
       "            observer.disconnect();\n",
       "        }}\n",
       "}});\n",
       "\n",
       "// Listen for the removal of the full notebook cells\n",
       "var notebookContainer = gd.closest('#notebook-container');\n",
       "if (notebookContainer) {{\n",
       "    x.observe(notebookContainer, {childList: true});\n",
       "}}\n",
       "\n",
       "// Listen for the clearing of the current output cell\n",
       "var outputEl = gd.closest('.output');\n",
       "if (outputEl) {{\n",
       "    x.observe(outputEl, {childList: true});\n",
       "}}\n",
       "\n",
       "                        })                };                });            </script>        </div>"
      ]
     },
     "metadata": {},
     "output_type": "display_data"
    }
   ],
   "source": [
    "#Bubble plot for Countries \n",
    "#Data for bubble plot\n",
    "yearly_top_n = ad.groupby([\"Year\",\"Team\"])[\"Gold\",\"Silver\",\"Bronze\"].sum().reset_index()\n",
    "yearly_top_n[\"Total\"] = yearly_top_n[\"Gold\"] + yearly_top_n[\"Silver\"] + yearly_top_n[\"Bronze\"]\n",
    "yearly_top_n = yearly_top_n.sort_values(by = [\"Total\",\"Gold\",\"Silver\",\"Bronze\"],ascending  = False)\n",
    "\n",
    "\n",
    "#function for bubble plot\n",
    "def plot_top_nations(df,country,ratio) : \n",
    "    tracer = go.Scatter(x = df[df[\"Team\"] == country][\"Year\"],\n",
    "                        y = df[df[\"Team\"] == country][\"Total\"],\n",
    "                        mode  = \"markers\",\n",
    "                        marker = dict(line = dict(width =1,color = \"black\"),\n",
    "                                      size = df[df[\"Team\"] == country][\"Total\"]/ratio,\n",
    "                                     ),\n",
    "                        name  = country \n",
    "                       )\n",
    "    return tracer\n",
    "\n",
    "def plot_layout(title) :\n",
    "    layout = go.Layout(dict(title = title,\n",
    "                        xaxis = dict(gridcolor = 'rgb(255, 255, 255)',\n",
    "                                     title = \"Year\",\n",
    "                                     zerolinewidth=1,\n",
    "                                     ticklen=5,\n",
    "                                     gridwidth=2\n",
    "                                    ),\n",
    "                        yaxis = dict(gridcolor = 'rgb(255, 255, 255)',\n",
    "                                     title = \"Medal Count\",\n",
    "                                     zerolinewidth=1,\n",
    "                                     ticklen=5,\n",
    "                                     gridwidth=2\n",
    "                                    ),\n",
    "                        paper_bgcolor = \"rgb(243,243,243)\",\n",
    "                        plot_bgcolor  = \"rgb(243,243,243)\",\n",
    "                       )\n",
    "                  )\n",
    "    return layout\n",
    "\n",
    "#plotting summer olympics\n",
    "ts1 = plot_top_nations(yearly_top_n,\"USA\",10)\n",
    "ts2 = plot_top_nations(yearly_top_n,\"Russia\",15)\n",
    "ts3 = plot_top_nations(yearly_top_n,'Germany',10)\n",
    "ts4 = plot_top_nations(yearly_top_n,'UK',5)\n",
    "ts5 = plot_top_nations(yearly_top_n,\"France\",5)\n",
    "ts6 = plot_top_nations(yearly_top_n,\"Singapore\",2)\n",
    "\n",
    "\n",
    "dat1 = [ts1,ts2,ts3,ts4,ts5,ts6]\n",
    "lay1 = plot_layout(\"Top 5 countries' medals & Singapore in Olympics over the years\")\n",
    "fig1 = go.Figure(data=dat1,layout=lay1)\n",
    "\n",
    "py.iplot(fig1)"
   ]
  },
  {
   "cell_type": "markdown",
   "metadata": {},
   "source": [
    "### SUMMARY OF FINDINGS:\n",
    "\n",
    "* Top 3 countries are: USA, Russia & Germany\n",
    "* Interestingly, from 1960, Russia was leading up till 1968, where USA overtook.\n",
    "* And in 1972 onwards, Germany overtooked both countries till 1976.\n",
    "\n",
    "### Over the years till 2016:\n",
    "* Germany returned to the top in 1980.\n",
    "* But was overtooked by USA in 1984. \n",
    "* For the rest of the years USA, tend to remain on top as compared to other countries at Olympics.\n",
    "\n",
    "## But where is Singapore?"
   ]
  },
  {
   "cell_type": "markdown",
   "metadata": {},
   "source": [
    "***"
   ]
  },
  {
   "cell_type": "markdown",
   "metadata": {},
   "source": [
    "## Section 2: Total Medals Won By Singapore @ Olympics & Other Information"
   ]
  },
  {
   "cell_type": "code",
   "execution_count": 12,
   "metadata": {},
   "outputs": [],
   "source": [
    "def country_wise_analysis(country_name) :\n",
    "    \n",
    "    data   = ad[ad[\"Team\"] == country_name].sort_values(by = \"Year\",\n",
    "                                                                  ascending = False)\n",
    "    \n",
    "    gold = ad[(ad.Medal == 'Gold')]\n",
    "    goldSGP = gold[(gold.Team == 'Singapore')]\n",
    "    #Drop duplicates of athletes name\n",
    "    #goldSGP = goldSGP.drop_duplicates([\"Name\"])\n",
    "\n",
    "    \n",
    "    BLUE = '\\033[34m'\n",
    "    RED = '\\033[91m'\n",
    "    PURPLE = '\\033[95m'\n",
    "    UNDERLINE = '\\033[4m'\n",
    "    BOLD = '\\033[1m'\n",
    "    END = '\\033[0m'\n",
    "\n",
    "    print (BLUE+UNDERLINE+BOLD+country_name+END)\n",
    "    print (\"--------------------\")\n",
    "    print (\"Olympics appearances        : \" , data[\"Games\"].nunique(),\"\\n\")\n",
    "\n",
    "    print (\"Total Participants          : \", data[\"ID\"].nunique())\n",
    "    print (\"Female Participants         : \", data[data[\"Sex\"] == \"F\"][\"ID\"].nunique(),\n",
    "           \", Percent : \" ,\n",
    "           np.around(data[data[\"Sex\"] == \"F\"][\"ID\"].nunique()/data[\"ID\"].nunique()*100,2),\n",
    "           \"%\")\n",
    "    print (\"Male   Participants         : \", data[data[\"Sex\"] == \"M\"][\"ID\"].nunique(),\n",
    "           \", Percent : \" ,\n",
    "           np.around(data[data[\"Sex\"] == \"M\"][\"ID\"].nunique()/data[\"ID\"].nunique()*100,2),\n",
    "           \"%\", \"\\n\")\n",
    "\n",
    "    female_events = data[data[\"Sex\"] == \"F\"][\"Event\"].unique().tolist()\n",
    "    male_events   = data[data[\"Sex\"] == \"M\"][\"Event\"].unique().tolist()\n",
    "    both_events   = [x for x in male_events if x in female_events]\n",
    "\n",
    "    print (\"Total Medals                : \",data[\"Total\"].sum() , \"(medals include every individual medal in team sport)\")\n",
    "    print (\"Gold                        : \",data[\"Gold\"].sum())\n",
    "    print (\"Silver                      : \",data[\"Silver\"].sum())\n",
    "    print (\"Bronze                      : \",data[\"Bronze\"].sum(),\"\\n\")\n",
    "    pop_spo_sum   = (data.groupby(\"Sport\")[\"Total\"].sum().reset_index().\n",
    "                     sort_values(by = \"Total\",ascending =False))\n",
    "    print (\"Popular Sports              : \" ,pop_spo_sum[\"Sport\"][:3].tolist())\n",
    "    pop_play_sum  = (data.groupby([\"Name\",\"Sport\"])[\"Total\",\"Gold\",\"Silver\",\"Bronze\"].sum().reset_index().\n",
    "                    sort_values(by = [\"Total\",\"Gold\",\"Silver\",\"Bronze\"],ascending =False))\n",
    "    print (\"Most Medals  (Athlete)      : \" ,pop_play_sum.loc[pop_play_sum[\"Total\"].idxmax()][\"Name\"],\n",
    "           \",Sport - \", pop_play_sum.loc[pop_play_sum[\"Total\"].idxmax()][\"Sport\"],\"\\n\")\n",
    "    \n",
    "    print(\"Gold medalists              : \",goldSGP.iloc[0][\"Name\"], \"-\", goldSGP.iloc[0][\"Event\"]) "
   ]
  },
  {
   "cell_type": "code",
   "execution_count": 13,
   "metadata": {},
   "outputs": [
    {
     "name": "stdout",
     "output_type": "stream",
     "text": [
      "\u001b[34m\u001b[4m\u001b[1mSingapore\u001b[0m\n",
      "--------------------\n",
      "Olympics appearances        :  13 \n",
      "\n",
      "Total Participants          :  97\n",
      "Female Participants         :  41 , Percent :  42.27 %\n",
      "Male   Participants         :  56 , Percent :  57.73 % \n",
      "\n",
      "Total Medals                :  5 (medals include every individual medal in team sport)\n",
      "Gold                        :  1\n",
      "Silver                      :  2\n",
      "Bronze                      :  2 \n",
      "\n",
      "Popular Sports              :  ['Table Tennis', 'Swimming', 'Weightlifting']\n",
      "Most Medals  (Athlete)      :  Feng Tian Wei ,Sport -  Table Tennis \n",
      "\n",
      "Gold medalists              :  Joseph Isaac Schooling - Swimming Men's 100 metres Butterfly\n"
     ]
    }
   ],
   "source": [
    "country_wise_analysis(\"Singapore\")"
   ]
  },
  {
   "cell_type": "markdown",
   "metadata": {},
   "source": [
    "### SUMMARY OF FINDINGS:\n",
    "\n",
    "* Singapore has sent athletes to most Summer Olympic Games held since 1948.\n",
    "* Upon Singapore's full independence from Malaysia in 1965, SGP has continued to participate in OLYMPICS till 1980.\n",
    "* 1980 was the year when countries participated in a large Olympic boycott!\n",
    "\n",
    "#### Medals?\n",
    "\n",
    "* SGP won five Olympic medals.\n",
    "* The first at the 1960 Summer Games.\n",
    "* The second at the 2008 Summer Games. \n",
    "* And the third and fourth at the 2012 Summer Games\n",
    "* At the 2016 Summer Games Singapore won their first ever gold medal and the fifth overall.\n",
    "\n",
    "#### Who Won The 1st Medal &/Or Gold Medal For SGP?\n",
    "\n",
    "* Singapore's first Olympic medal was won by Tan Howe Liang, who won silver in lightweight weightlifting in 1960. \n",
    "* The first Olympic gold medal was won by Joseph Schooling in the men's 100 metre butterfly at the 2016 Summer Olympics."
   ]
  },
  {
   "cell_type": "markdown",
   "metadata": {},
   "source": [
    "***"
   ]
  },
  {
   "cell_type": "markdown",
   "metadata": {},
   "source": [
    "## Section 3: Predict Total Medals A Country Can Win"
   ]
  },
  {
   "cell_type": "code",
   "execution_count": 14,
   "metadata": {},
   "outputs": [
    {
     "data": {
      "text/html": [
       "<div>\n",
       "<style scoped>\n",
       "    .dataframe tbody tr th:only-of-type {\n",
       "        vertical-align: middle;\n",
       "    }\n",
       "\n",
       "    .dataframe tbody tr th {\n",
       "        vertical-align: top;\n",
       "    }\n",
       "\n",
       "    .dataframe thead th {\n",
       "        text-align: right;\n",
       "    }\n",
       "</style>\n",
       "<table border=\"1\" class=\"dataframe\">\n",
       "  <thead>\n",
       "    <tr style=\"text-align: right;\">\n",
       "      <th></th>\n",
       "      <th>ID</th>\n",
       "      <th>Name</th>\n",
       "      <th>Sex</th>\n",
       "      <th>Age</th>\n",
       "      <th>Height</th>\n",
       "      <th>Weight</th>\n",
       "      <th>NOC</th>\n",
       "      <th>Games</th>\n",
       "      <th>Year</th>\n",
       "      <th>Season</th>\n",
       "      <th>...</th>\n",
       "      <th>Medal</th>\n",
       "      <th>Team</th>\n",
       "      <th>Country Code</th>\n",
       "      <th>GDP</th>\n",
       "      <th>Population</th>\n",
       "      <th>Gold</th>\n",
       "      <th>Silver</th>\n",
       "      <th>Bronze</th>\n",
       "      <th>Total</th>\n",
       "      <th>Medal_Won</th>\n",
       "    </tr>\n",
       "  </thead>\n",
       "  <tbody>\n",
       "    <tr>\n",
       "      <th>0</th>\n",
       "      <td>1</td>\n",
       "      <td>A Dijiang</td>\n",
       "      <td>M</td>\n",
       "      <td>24.0</td>\n",
       "      <td>180.0</td>\n",
       "      <td>80.0</td>\n",
       "      <td>CHN</td>\n",
       "      <td>1992 Summer</td>\n",
       "      <td>1992</td>\n",
       "      <td>Summer</td>\n",
       "      <td>...</td>\n",
       "      <td>No Medal</td>\n",
       "      <td>China</td>\n",
       "      <td>CHN</td>\n",
       "      <td>4.269160e+11</td>\n",
       "      <td>1.164970e+09</td>\n",
       "      <td>0</td>\n",
       "      <td>0</td>\n",
       "      <td>0</td>\n",
       "      <td>0</td>\n",
       "      <td>0</td>\n",
       "    </tr>\n",
       "    <tr>\n",
       "      <th>1</th>\n",
       "      <td>2</td>\n",
       "      <td>A Lamusi</td>\n",
       "      <td>M</td>\n",
       "      <td>23.0</td>\n",
       "      <td>170.0</td>\n",
       "      <td>60.0</td>\n",
       "      <td>CHN</td>\n",
       "      <td>2012 Summer</td>\n",
       "      <td>2012</td>\n",
       "      <td>Summer</td>\n",
       "      <td>...</td>\n",
       "      <td>No Medal</td>\n",
       "      <td>China</td>\n",
       "      <td>CHN</td>\n",
       "      <td>8.560550e+12</td>\n",
       "      <td>1.350695e+09</td>\n",
       "      <td>0</td>\n",
       "      <td>0</td>\n",
       "      <td>0</td>\n",
       "      <td>0</td>\n",
       "      <td>0</td>\n",
       "    </tr>\n",
       "    <tr>\n",
       "      <th>26</th>\n",
       "      <td>12</td>\n",
       "      <td>Jyri Tapani Aalto</td>\n",
       "      <td>M</td>\n",
       "      <td>31.0</td>\n",
       "      <td>172.0</td>\n",
       "      <td>70.0</td>\n",
       "      <td>FIN</td>\n",
       "      <td>2000 Summer</td>\n",
       "      <td>2000</td>\n",
       "      <td>Summer</td>\n",
       "      <td>...</td>\n",
       "      <td>No Medal</td>\n",
       "      <td>Finland</td>\n",
       "      <td>FIN</td>\n",
       "      <td>1.255400e+11</td>\n",
       "      <td>5.176209e+06</td>\n",
       "      <td>0</td>\n",
       "      <td>0</td>\n",
       "      <td>0</td>\n",
       "      <td>0</td>\n",
       "      <td>0</td>\n",
       "    </tr>\n",
       "  </tbody>\n",
       "</table>\n",
       "<p>3 rows × 23 columns</p>\n",
       "</div>"
      ],
      "text/plain": [
       "    ID               Name Sex   Age  Height  Weight  NOC        Games  Year  \\\n",
       "0    1          A Dijiang   M  24.0   180.0    80.0  CHN  1992 Summer  1992   \n",
       "1    2           A Lamusi   M  23.0   170.0    60.0  CHN  2012 Summer  2012   \n",
       "26  12  Jyri Tapani Aalto   M  31.0   172.0    70.0  FIN  2000 Summer  2000   \n",
       "\n",
       "    Season  ...     Medal     Team Country Code           GDP    Population  \\\n",
       "0   Summer  ...  No Medal    China          CHN  4.269160e+11  1.164970e+09   \n",
       "1   Summer  ...  No Medal    China          CHN  8.560550e+12  1.350695e+09   \n",
       "26  Summer  ...  No Medal  Finland          FIN  1.255400e+11  5.176209e+06   \n",
       "\n",
       "   Gold  Silver  Bronze  Total  Medal_Won  \n",
       "0     0       0       0      0          0  \n",
       "1     0       0       0      0          0  \n",
       "26    0       0       0      0          0  \n",
       "\n",
       "[3 rows x 23 columns]"
      ]
     },
     "execution_count": 14,
     "metadata": {},
     "output_type": "execute_result"
    }
   ],
   "source": [
    "#First change medals to medal win & dnw\n",
    "ad['Medal_Won'] = np.where(ad.loc[:,'Medal'] == 'No Medal', 0, 1)\n",
    "ad.head(3)"
   ]
  },
  {
   "cell_type": "code",
   "execution_count": 15,
   "metadata": {},
   "outputs": [],
   "source": [
    "# Check whether number of medals won in a year for an event by a team exceeds 1. This indicates a team event.\n",
    "identify_team_events = pd.pivot_table(ad,\n",
    "                                      index = ['Team', 'Year', 'Event'],\n",
    "                                      columns = 'Medal',\n",
    "                                      values = 'Medal_Won',\n",
    "                                      aggfunc = 'sum',\n",
    "                                     fill_value = 0).drop('No Medal', axis = 1).reset_index()\n",
    "\n",
    "identify_team_events = identify_team_events.loc[identify_team_events['Gold'] > 1, :]\n",
    "\n",
    "team_sports = identify_team_events['Event'].unique()\n",
    "\n",
    "remove_sports = [\"Gymnastics Women's Balance Beam\", \"Gymnastics Men's Horizontal Bar\", \n",
    "                 \"Swimming Women's 100 metres Freestyle\", \"Swimming Men's 50 metres Freestyle\"]\n",
    "\n",
    "team_sports = list(set(team_sports) - set(remove_sports))\n",
    "\n",
    "# if an event name matches with one in team sports, then it is a team event. Others are singles events.\n",
    "team_event_mask = ad['Event'].map(lambda x: x in team_sports)\n",
    "single_event_mask = [not i for i in team_event_mask]\n",
    "\n",
    "# rows where medal_won is 1\n",
    "medal_mask = ad['Medal_Won'] == 1\n",
    "\n",
    "# Put 1 under team event if medal is won and event in team event list\n",
    "ad['Team_Event'] = np.where(team_event_mask & medal_mask, 1, 0)\n",
    "\n",
    "# Put 1 under singles event if medal is won and event not in team event list\n",
    "ad['Single_Event'] = np.where(single_event_mask & medal_mask, 1, 0)\n",
    "\n",
    "# Add an identifier for team/single event\n",
    "ad['Event_Category'] = ad['Single_Event'] + \\\n",
    "ad['Team_Event']\n",
    "\n",
    "medal_tally_agnostic = ad.\\\n",
    "groupby(['Year', 'Team', 'Event', 'Medal'])[['Medal_Won', 'Event_Category']].\\\n",
    "agg('sum').reset_index()\n",
    "\n",
    "medal_tally_agnostic['Medal_Won_Corrected'] = medal_tally_agnostic['Medal_Won']/medal_tally_agnostic['Event_Category']"
   ]
  },
  {
   "cell_type": "code",
   "execution_count": 16,
   "metadata": {},
   "outputs": [
    {
     "data": {
      "text/plain": [
       "Team\n",
       "USA        1458.0\n",
       "Russia     1401.0\n",
       "Germany    1084.0\n",
       "China       545.0\n",
       "Name: All, dtype: float64"
      ]
     },
     "execution_count": 16,
     "metadata": {},
     "output_type": "execute_result"
    }
   ],
   "source": [
    "# Medal Tally.\n",
    "medal_tally = medal_tally_agnostic.groupby(['Year','Team'])['Medal_Won_Corrected'].agg('sum').reset_index()\n",
    "\n",
    "medal_tally_pivot = pd.pivot_table(medal_tally,\n",
    "                     index = 'Team',\n",
    "                     columns = 'Year',\n",
    "                     values = 'Medal_Won_Corrected',\n",
    "                     aggfunc = 'sum',\n",
    "                     margins = True).sort_values('All', ascending = False)[1:5]\n",
    "\n",
    "# print total medals won in the given period\n",
    "medal_tally_pivot.loc[:,'All']"
   ]
  },
  {
   "cell_type": "code",
   "execution_count": 17,
   "metadata": {},
   "outputs": [
    {
     "data": {
      "text/plain": [
       "Text(0, 0.5, 'Country')"
      ]
     },
     "execution_count": 17,
     "metadata": {},
     "output_type": "execute_result"
    },
    {
     "data": {
      "image/png": "[encoded data removed]",
      "text/plain": [
       "<Figure size 800x600 with 1 Axes>"
      ]
     },
     "metadata": {},
     "output_type": "display_data"
    }
   ],
   "source": [
    "# List of top countries\n",
    "top_countries = ['USA', 'Russia', 'Germany', 'China']\n",
    "\n",
    "# row mask where countries match\n",
    "row_mask_2 = medal_tally_agnostic['Team'].map(lambda x: x in top_countries)\n",
    "\n",
    "# Pivot table to calculate sum of gold, silver and bronze medals for each country\n",
    "medal_tally_specific = pd.pivot_table(medal_tally_agnostic[row_mask_2],\n",
    "                                     index = ['Team'],\n",
    "                                     columns = 'Medal',\n",
    "                                     values = 'Medal_Won_Corrected',\n",
    "                                     aggfunc = 'sum',\n",
    "                                     fill_value = 0).drop('No Medal', axis = 1)\n",
    "\n",
    "# Re-order the columns so that they appear in order on the chart.\n",
    "medal_tally_specific = medal_tally_specific.loc[:, ['Gold', 'Silver', 'Bronze']]\n",
    "\n",
    "medal_tally_specific.plot(kind = 'bar', stacked = True, figsize = (8,6), rot = 0)\n",
    "plt.xlabel('Number of Medals')\n",
    "plt.ylabel('Country')"
   ]
  },
  {
   "cell_type": "markdown",
   "metadata": {},
   "source": [
    "This preliminary plot shows a count on total no. of medals that are won by each country under medal tally. \n",
    "<br>Let's take a look at if GDP affects the total no. of medals won via **correlation analysis**."
   ]
  },
  {
   "cell_type": "code",
   "execution_count": 18,
   "metadata": {},
   "outputs": [
    {
     "data": {
      "image/png": "[encoded data removed]",
      "text/plain": [
       "<Figure size 640x480 with 1 Axes>"
      ]
     },
     "metadata": {},
     "output_type": "display_data"
    }
   ],
   "source": [
    "# Correlation between GDP & total no. of Medals won\n",
    "year_team_gdp = ad.loc[:, ['Year', 'Team', 'GDP']].drop_duplicates()\n",
    "\n",
    "medal_tally_gdp = medal_tally.merge(year_team_gdp,\n",
    "                                    left_on=['Year', 'Team'],\n",
    "                                    right_on=['Year', 'Team'],\n",
    "                                    how='left')\n",
    "\n",
    "# List of top countries\n",
    "top_countries = ['USA', 'Russia', 'Germany', 'China']\n",
    "\n",
    "row_mask_5 = medal_tally_gdp['Medal_Won_Corrected'] > 0\n",
    "row_mask_6 = medal_tally_gdp['Team'].map(lambda x: x in top_countries)\n",
    "\n",
    "# Calculate the correlation\n",
    "correlation = medal_tally_gdp.loc[row_mask_5, ['GDP', 'Medal_Won_Corrected']].corr()['Medal_Won_Corrected'][0]\n",
    "\n",
    "# Plot GDP vs Medal tally\n",
    "plt.plot(medal_tally_gdp.loc[row_mask_5, 'GDP'], \n",
    "         medal_tally_gdp.loc[row_mask_5, 'Medal_Won_Corrected'], \n",
    "         linestyle='none', \n",
    "         marker='o',\n",
    "         alpha=0.4)\n",
    "\n",
    "# Adding labels and title\n",
    "plt.xlabel('Country GDP')\n",
    "plt.ylabel('Number of Medals')\n",
    "plt.title('GDP versus Medal Tally')\n",
    "\n",
    "# Add the correlation text on the plot\n",
    "plt.text(np.nanpercentile(medal_tally_gdp['GDP'], 99.6), \n",
    "         max(medal_tally_gdp['Medal_Won_Corrected']) - 50,\n",
    "         \"Correlation = \" + str(correlation))\n",
    "\n",
    "# Show the plot\n",
    "plt.show()"
   ]
  },
  {
   "cell_type": "code",
   "execution_count": 19,
   "metadata": {},
   "outputs": [
    {
     "data": {
      "image/png": "[encoded data removed]",
      "text/plain": [
       "<Figure size 640x480 with 1 Axes>"
      ]
     },
     "metadata": {},
     "output_type": "display_data"
    }
   ],
   "source": [
    "# Correlation between Population and total no. of Medals\n",
    "year_team_pop = ad.loc[:, ['Year', 'Team', 'Population']].drop_duplicates()\n",
    "\n",
    "medal_tally_pop = medal_tally.merge(year_team_pop,\n",
    "                                    left_on=['Year', 'Team'],\n",
    "                                    right_on=['Year', 'Team'],\n",
    "                                    how='left')\n",
    "\n",
    "# List of top countries\n",
    "top_countries = ['USA', 'Russia', 'Germany', 'China']\n",
    "\n",
    "row_mask_5 = medal_tally_pop['Medal_Won_Corrected'] > 0\n",
    "row_mask_6 = medal_tally_pop['Team'].map(lambda x: x in top_countries)\n",
    "\n",
    "# Calculate the correlation\n",
    "correlation = medal_tally_pop.loc[row_mask_5, ['Population', 'Medal_Won_Corrected']].corr()['Medal_Won_Corrected'][0]\n",
    "\n",
    "# Plot Population vs Medal tally\n",
    "plt.plot(medal_tally_pop.loc[row_mask_5, 'Population'], \n",
    "         medal_tally_pop.loc[row_mask_5, 'Medal_Won_Corrected'], \n",
    "         linestyle='none', \n",
    "         marker='o',\n",
    "         alpha=0.4)\n",
    "\n",
    "# Adding labels and title\n",
    "plt.xlabel('Country Population')\n",
    "plt.ylabel('Number of Medals')\n",
    "plt.title('Population versus Medal Tally')\n",
    "\n",
    "# Add the correlation text on the plot\n",
    "plt.text(np.nanpercentile(medal_tally_pop['Population'], 99.6), \n",
    "         max(medal_tally_pop['Medal_Won_Corrected']) - 50,\n",
    "         \"Correlation = \" + str(correlation))\n",
    "\n",
    "# Show the plot\n",
    "plt.show()"
   ]
  },
  {
   "cell_type": "markdown",
   "metadata": {},
   "source": [
    "### Summary of Findings:\n",
    "\n",
    "* The correlation between GDP and the number of medals (0.6196) is moderate to strong, ...\n",
    "* indicating that wealthier countries (higher GDP) tend to win more medals. \n",
    "* This could be because countries with higher GDPs can invest more in sports infrastructure, athlete training programs, and \n",
    "* resources that improve their chances of winning medals.\n",
    "\n",
    "### What about Population?\n",
    "* The correlation between population and the number of medals (0.3012) is relatively weak. \n",
    "* While larger populations may have a bigger talent pool, but...\n",
    "* this weaker correlation suggests that having a large population alone is not a strong predictor of medal success."
   ]
  },
  {
   "cell_type": "code",
   "execution_count": 20,
   "metadata": {},
   "outputs": [
    {
     "ename": "NameError",
     "evalue": "name 'medal_gdp_population' is not defined",
     "output_type": "error",
     "traceback": [
      "\u001b[1;31m---------------------------------------------------------------------------\u001b[0m",
      "\u001b[1;31mNameError\u001b[0m                                 Traceback (most recent call last)",
      "Cell \u001b[1;32mIn[20], line 2\u001b[0m\n\u001b[0;32m      1\u001b[0m \u001b[38;5;66;03m# Find correlation \u001b[39;00m\n\u001b[1;32m----> 2\u001b[0m \u001b[38;5;28mprint\u001b[39m(medal_gdp_population\u001b[38;5;241m.\u001b[39mcorr())\n\u001b[0;32m      3\u001b[0m sb\u001b[38;5;241m.\u001b[39mheatmap(medal_gdp_population\u001b[38;5;241m.\u001b[39mcorr(), vmin \u001b[38;5;241m=\u001b[39m \u001b[38;5;241m-\u001b[39m\u001b[38;5;241m1\u001b[39m, vmax \u001b[38;5;241m=\u001b[39m \u001b[38;5;241m1\u001b[39m, annot \u001b[38;5;241m=\u001b[39m \u001b[38;5;28;01mTrue\u001b[39;00m, fmt \u001b[38;5;241m=\u001b[39m \u001b[38;5;124m\"\u001b[39m\u001b[38;5;124m.3f\u001b[39m\u001b[38;5;124m\"\u001b[39m)\n",
      "\u001b[1;31mNameError\u001b[0m: name 'medal_gdp_population' is not defined"
     ]
    }
   ],
   "source": [
    "# Find correlation \n",
    "print(medal_gdp_population.corr())\n",
    "sb.heatmap(medal_gdp_population.corr(), vmin = -1, vmax = 1, annot = True, fmt = \".3f\")"
   ]
  },
  {
   "cell_type": "markdown",
   "metadata": {},
   "source": [
    "***"
   ]
  },
  {
   "cell_type": "markdown",
   "metadata": {},
   "source": [
    "## Section 4: Linear Regression to Predict Medals Count"
   ]
  },
  {
   "cell_type": "markdown",
   "metadata": {},
   "source": [
    "Now let's try using Linear regression and if it is able to predict no. of medals, it does not necessary mean predicting the future but more of finding out if the variable has an effect on predicting the other variable. \n",
    "<p> E.g. using 1 independent variable to predict the dependent variable"
   ]
  },
  {
   "cell_type": "code",
   "execution_count": null,
   "metadata": {},
   "outputs": [],
   "source": [
    "# Import libraries\n",
    "from sklearn.linear_model import LinearRegression\n",
    "from sklearn.model_selection import train_test_split\n",
    "from sklearn.metrics import mean_squared_error"
   ]
  },
  {
   "cell_type": "code",
   "execution_count": null,
   "metadata": {},
   "outputs": [],
   "source": [
    "medal_gdp_population2 = medal_gdp_population.dropna(subset=['GDP', 'Population'])\n",
    "medal_gdp_population2['LogPopulation'] = np.log(medal_gdp_population2['Population'])\n",
    "medal_gdp_population2['LogGDP'] = np.log(medal_gdp_population2['GDP'])\n",
    "medal_gdp_population2.head(3)"
   ]
  },
  {
   "cell_type": "code",
   "execution_count": null,
   "metadata": {},
   "outputs": [],
   "source": [
    "# Splitting datasets (We will see if GDP & Population will predict for us the total no. of medals)\n",
    "X = pd.DataFrame(medal_gdp_population2[[\"LogGDP\", \"LogPopulation\"]])\n",
    "y = pd.DataFrame(medal_gdp_population2[\"Medal_Won_Corrected\"])\n",
    "X_train, X_test, y_train, y_test = train_test_split(\n",
    "    X, y, test_size = 0.20\n",
    ")\n",
    "\n",
    "# Linear Regression using Train Data\n",
    "linreg = LinearRegression()         # create the linear regression object\n",
    "linreg.fit(X_train, y_train)        # train the linear regression model\n",
    "\n",
    "# Coefficients of the Linear Regression line\n",
    "print('Intercept of Regression \\t:', linreg.intercept_)\n",
    "print('Coefficients of Regression \\t:', linreg.coef_)\n",
    "print()\n",
    "\n",
    "# Predict y values\n",
    "y_train_pred = linreg.predict(X_train)\n",
    "y_test_pred = linreg.predict(X_test)\n",
    "\n",
    "# Check the Goodness of Fit (on Train Data)\n",
    "print(\"Goodness of Fit of Model \\tTrain Dataset\")\n",
    "print(\"Explained Variance (R^2) \\t:\", linreg.score(X_train, y_train))\n",
    "print(\"Mean Squared Error (MSE) \\t:\", mean_squared_error(y_train, y_train_pred))\n",
    "print()\n",
    "\n",
    "# Check the Goodness of Fit (on Test Data)\n",
    "print(\"Goodness of Fit of Model \\tTest Dataset\")\n",
    "print(\"Explained Variance (R^2) \\t:\", linreg.score(X_test, y_test))\n",
    "print(\"Mean Squared Error (MSE) \\t:\", mean_squared_error(y_test, y_test_pred))\n",
    "print()\n",
    "\n",
    "# Plot the Predictions vs the True values\n",
    "f, axes = plt.subplots(2, 1, figsize=(24, 24))\n",
    "axes[0].scatter(y_train, y_train_pred, color = \"blue\")\n",
    "axes[0].plot(y_train, y_train, 'r-', linewidth = 1)\n",
    "axes[0].set_xlabel(\"True values of the Response Variable (Train)\")\n",
    "axes[0].set_ylabel(\"Predicted values of the Response Variable (Train)\")\n",
    "\n",
    "axes[1].scatter(y_test, y_test_pred, color = \"green\")\n",
    "axes[1].plot(y_test, y_test, 'r-', linewidth = 1)\n",
    "axes[1].set_xlabel(\"True values of the Response Variable (Test)\")\n",
    "axes[1].set_ylabel(\"Predicted values of the Response Variable (Test)\")"
   ]
  },
  {
   "cell_type": "markdown",
   "metadata": {},
   "source": [
    "Apparently it does not, the Explained variance is no where near to 1 as well. \n",
    "<p>Let's explore on what other variables we can add to the table that are possible to predict the no. of medals!"
   ]
  },
  {
   "cell_type": "markdown",
   "metadata": {},
   "source": [
    "## Section 5: Possible Other Factors"
   ]
  },
  {
   "cell_type": "code",
   "execution_count": null,
   "metadata": {},
   "outputs": [],
   "source": [
    "# Will the host country affect the no, of medal won? \n",
    "\n",
    "# Let's try and get the host country as well to see if it correlates to anything!\n",
    "ad[['Year', 'City']].drop_duplicates().sort_values('Year')"
   ]
  },
  {
   "cell_type": "code",
   "execution_count": null,
   "metadata": {},
   "outputs": [],
   "source": [
    "# Correct city names in the dataset\n",
    "ad['City'].replace(['Athina', 'Moskva'], ['Athens', 'Moscow'], inplace = True)\n",
    "\n",
    "# city to country mapping dictionary\n",
    "city_to_country = {'Roma':'Italy',\n",
    "                  'Tokyo': 'Japan',\n",
    "                  'Mexico City': 'Mexico',\n",
    "                  'Munich': 'Germany',\n",
    "                  'Montreal': 'Canada',\n",
    "                  'Moscow': 'Russia',\n",
    "                  'Los Angeles': 'USA',\n",
    "                  'Seoul': 'South Korea',\n",
    "                  'Barcelona': 'Spain',\n",
    "                  'Atlanta': 'USA',\n",
    "                  'Sydney': 'Australia',\n",
    "                  'Athens': 'Greece',\n",
    "                  'Beijing': 'China',\n",
    "                  'London': 'UK',\n",
    "                  'Rio de Janeiro': 'Brazil'}\n",
    "\n",
    "# Map cities to countries\n",
    "ad['Country_Host'] = ad['City'].map(city_to_country)\n",
    "\n",
    "#print the \n",
    "ad.loc[:, ['Year', 'Country_Host']].drop_duplicates().sort_values('Year')"
   ]
  },
  {
   "cell_type": "code",
   "execution_count": null,
   "metadata": {},
   "outputs": [],
   "source": [
    "# Extract year, host nation and team name from the data\n",
    "year_host_team = ad[['Year', 'Country_Host', 'Team']].drop_duplicates()\n",
    "\n",
    "# check rows where host country is the same as team\n",
    "row_mask_4 = (year_host_team['Country_Host'] == year_host_team['Team'])\n",
    "\n",
    "# add years in the year_host_team to capture one previous and one later year\n",
    "year_host_team['Prev_Year'] = year_host_team['Year'] - 4\n",
    "year_host_team['Next_Year'] = year_host_team['Year'] + 4\n",
    "\n",
    "# Subset only where host nation and team were the same\n",
    "year_host_team = year_host_team[row_mask_4]\n",
    "\n",
    "# Calculate the medals won in each year where a team played at home. merge year_host_team with medal_tally on year and team\n",
    "year_host_team_medal = year_host_team.merge(medal_tally,\n",
    "                                           left_on = ['Year', 'Team'],\n",
    "                                           right_on = ['Year', 'Team'],\n",
    "                                           how = 'left')\n",
    "\n",
    "year_host_team_medal.rename(columns = {'Medal_Won_Corrected' : 'Medal_Won_Host_Year'}, inplace = True)\n",
    "\n",
    "# Calculate medals won by team in previous year\n",
    "year_host_team_medal = year_host_team_medal.merge(medal_tally,\n",
    "                                                 left_on = ['Prev_Year', 'Team'],\n",
    "                                                 right_on = ['Year', 'Team'],\n",
    "                                                 how = 'left')\n",
    "\n",
    "year_host_team_medal.drop('Year_y', axis = 1, inplace = True)\n",
    "year_host_team_medal.rename(columns = {'Medal_Won_Corrected': 'Medal_Won_Prev_Year',\n",
    "                                      'Year_x':'Year'}, inplace = True)\n",
    "\n",
    "# Calculate the medals won by the team the year after they hosted.\n",
    "year_host_team_medal = year_host_team_medal.merge(medal_tally,\n",
    "                                                 left_on = ['Next_Year', 'Team'],\n",
    "                                                 right_on = ['Year', 'Team'],\n",
    "                                                 how = 'left')\n",
    "\n",
    "year_host_team_medal.drop('Year_y', axis = 1, inplace = True)\n",
    "year_host_team_medal.rename(columns = {'Year_x': 'Year',\n",
    "                                      'Medal_Won_Corrected' : 'Medal_Won_Next_Year'}, inplace = True)\n",
    "\n",
    "# General formatting changes\n",
    "year_host_team_medal.drop(['Prev_Year', 'Next_Year'], axis = 1, inplace = True)\n",
    "year_host_team_medal.sort_values('Year', ascending = True, inplace = True)\n",
    "year_host_team_medal.reset_index(inplace = True, drop = True)\n",
    "\n",
    "# column re-ordering\n",
    "year_host_team_medal = year_host_team_medal.loc[:, ['Year', 'Country_Host', 'Team', 'Medal_Won_Prev_Year', 'Medal_Won_Host_Year', 'Medal_Won_Next_Year']]\n",
    "\n",
    "year_host_team_medal"
   ]
  },
  {
   "cell_type": "markdown",
   "metadata": {},
   "source": [
    "**Seems like general team tend to perform better when playing at home.**"
   ]
  },
  {
   "cell_type": "code",
   "execution_count": null,
   "metadata": {},
   "outputs": [],
   "source": [
    "# Will the no. of athlete send per year affect the no. of medal ? \n",
    "\n",
    "# create the year, team contingent size\n",
    "year_team_gender = ad.loc[:,['Year','Team', 'Name', 'Sex']].drop_duplicates()\n",
    "\n",
    "year_team_gender_count = pd.pivot_table(year_team_gender,\n",
    "                                        index = ['Year', 'Team'],\n",
    "                                        columns = 'Sex',\n",
    "                                        aggfunc = 'count').reset_index()\n",
    "\n",
    "# rename columns as per column names in the 0th level\n",
    "year_team_gender_count.columns = year_team_gender_count.columns.get_level_values(0)\n",
    "\n",
    "# rename the columns appropriately\n",
    "year_team_gender_count.columns = ['Year', 'Team', 'Female_Athletes', 'Male_Athletes']\n",
    "year_team_gender_count = year_team_gender_count.fillna(0)\n",
    "\n",
    "# get total athletes per team-year\n",
    "year_team_gender_count['Total_Athletes'] = year_team_gender_count['Female_Athletes'] + \\\n",
    "year_team_gender_count['Male_Athletes']\n",
    "\n",
    "year_team_contingent = year_team_gender_count.loc[:, ['Year', 'Team','Total_Athletes']]\n",
    "year_team_contingent.head()"
   ]
  },
  {
   "cell_type": "code",
   "execution_count": null,
   "metadata": {},
   "outputs": [],
   "source": [
    "medal_gdp_population3 = medal_gdp_population.merge(year_team_contingent,\n",
    "                                            left_on = ['Year', 'Team'],\n",
    "                                            right_on = ['Year', 'Team'],\n",
    "                                            how = 'left')\n",
    "medal_gdp_population3.head(3)"
   ]
  },
  {
   "cell_type": "code",
   "execution_count": null,
   "metadata": {},
   "outputs": [],
   "source": [
    "# get host nation from the data\n",
    "year_host = ad.loc[:, ['Year', 'Country_Host']].drop_duplicates()\n",
    "\n",
    "# merge this with the larger dataset\n",
    "athMo = medal_gdp_population3.merge(year_host,\n",
    "                              left_on = 'Year',\n",
    "                              right_on = 'Year',\n",
    "                              how = 'left')\n",
    "\n",
    "athMo.head()"
   ]
  },
  {
   "cell_type": "code",
   "execution_count": null,
   "metadata": {},
   "outputs": [],
   "source": [
    "# Find correlation \n",
    "print(athMo.corr())\n",
    "sb.heatmap(athMo.corr(), vmin = -1, vmax = 1, annot = True, fmt = \".3f\")"
   ]
  },
  {
   "cell_type": "code",
   "execution_count": null,
   "metadata": {},
   "outputs": [],
   "source": [
    "medal_gdp_population3 = athMo.dropna(subset=['GDP', 'Population'])\n",
    "medal_gdp_population3['LogPopulation'] = np.log(medal_gdp_population3['Population'])\n",
    "medal_gdp_population3['LogGDP'] = np.log(medal_gdp_population3['GDP'])\n",
    "medal_gdp_population3.head(3)"
   ]
  },
  {
   "cell_type": "code",
   "execution_count": null,
   "metadata": {},
   "outputs": [],
   "source": [
    "# Splitting datasets\n",
    "X = pd.DataFrame(medal_gdp_population3[[\"Total_Athletes\",\"LogPopulation\",\"LogGDP\"]])\n",
    "y = pd.DataFrame(medal_gdp_population3[\"Medal_Won_Corrected\"])\n",
    "X_train, X_test, y_train, y_test = train_test_split(\n",
    "    X, y, test_size = 0.20\n",
    ")\n",
    "\n",
    "# Linear Regression using Train Data\n",
    "linreg = LinearRegression()         # create the linear regression object\n",
    "linreg.fit(X_train, y_train)        # train the linear regression model\n",
    "\n",
    "# Coefficients of the Linear Regression line\n",
    "print('Intercept of Regression \\t:', linreg.intercept_)\n",
    "print('Coefficients of Regression \\t:', linreg.coef_)\n",
    "print()\n",
    "\n",
    "# Predict y values\n",
    "y_train_pred = linreg.predict(X_train)\n",
    "y_test_pred = linreg.predict(X_test)\n",
    "\n",
    "# Check the Goodness of Fit (on Train Data)\n",
    "print(\"Goodness of Fit of Model \\tTrain Dataset\")\n",
    "print(\"Explained Variance (R^2) \\t:\", linreg.score(X_train, y_train))\n",
    "print(\"Mean Squared Error (MSE) \\t:\", mean_squared_error(y_train, y_train_pred))\n",
    "print()\n",
    "\n",
    "# Check the Goodness of Fit (on Test Data)\n",
    "print(\"Goodness of Fit of Model \\tTest Dataset\")\n",
    "print(\"Explained Variance (R^2) \\t:\", linreg.score(X_test, y_test))\n",
    "print(\"Mean Squared Error (MSE) \\t:\", mean_squared_error(y_test, y_test_pred))\n",
    "print()\n",
    "\n",
    "# Plot the Predictions vs the True values\n",
    "f, axes = plt.subplots(2, 1, figsize=(24, 24))\n",
    "axes[0].scatter(y_train, y_train_pred, color = \"blue\")\n",
    "axes[0].plot(y_train, y_train, 'r-', linewidth = 1)\n",
    "axes[0].set_xlabel(\"True values of the Response Variable (Train)\")\n",
    "axes[0].set_ylabel(\"Predicted values of the Response Variable (Train)\")\n",
    "\n",
    "axes[1].scatter(y_test, y_test_pred, color = \"green\")\n",
    "axes[1].plot(y_test, y_test, 'r-', linewidth = 1)\n",
    "axes[1].set_xlabel(\"True values of the Response Variable (Test)\")\n",
    "axes[1].set_ylabel(\"Predicted values of the Response Variable (Test)\")"
   ]
  },
  {
   "cell_type": "markdown",
   "metadata": {},
   "source": [
    "### Summary of Findings:\n",
    "\n",
    "Much better! \n",
    "\n",
    "* Olympic glory do correlate with the national economic performances.\n",
    "* However it is very limited as seen from the first regression model. \n",
    "<br> \n",
    "\n",
    "**Other important factors may also affect the index:**\n",
    "* Considering a large pool of atheletes (or contenders) are neccessary for a higher winning chance.\n",
    "* Both China and U.S.A can be viewed as countries with greater population.\n",
    "<br>\n",
    "\n",
    "**What we can conclude from the second linear regression model:**\n",
    "* Wealthier country may tend to be more competent in all the sports events\n",
    "* Larger population = More athletes send to participate = higher chance of winning medals"
   ]
  },
  {
   "cell_type": "markdown",
   "metadata": {},
   "source": [
    "---\n",
    "\n",
    "## Reference materials & Sources: \n",
    "\n",
    "1. https://chrisalbon.com/python/data_wrangling/\n",
    "2. Data for Athletes for most appearance (Top 50) from: https://en.wikipedia.org/wiki/List_of_athletes_with_the_most_appearances_at_Olympic_Games\n",
    "3. https://www.theanalysisfactor.com/regression-modelshow-do-you-know-you-need-a-polynomial/\n",
    "\n",
    "\n",
    "---"
   ]
  }
 ],
 "metadata": {
  "kernelspec": {
   "display_name": "Python 3 (ipykernel)",
   "language": "python",
   "name": "python3"
  },
  "language_info": {
   "codemirror_mode": {
    "name": "ipython",
    "version": 3
   },
   "file_extension": ".py",
   "mimetype": "text/x-python",
   "name": "python",
   "nbconvert_exporter": "python",
   "pygments_lexer": "ipython3",
   "version": "3.11.4"
  }
 },
 "nbformat": 4,
 "nbformat_minor": 2
}
